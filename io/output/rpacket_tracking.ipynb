{
 "cells": [
  {
   "cell_type": "markdown",
   "id": "f57cd4fe",
   "metadata": {},
   "source": [
    "# Tracking the Properties of Real Packets"
   ]
  },
  {
   "cell_type": "markdown",
   "id": "c103617c",
   "metadata": {},
   "source": [
    "**TARDIS** has the functionality to track the properties of the *RPackets* that are generated when running the Simulation. The `rpacket_tracker` can track all the interactions a packet undergoes & thus keeps a track of the various properties, a packet may have.<br>Currently, the `rpacket_tracker` tracks the properties of all the rpackets in the *Last Iteration of the Simulation*. It generates a `List` that contains the individual instances of `RPacketCollection`{`Numba JITClass`}, for storing all the interaction properties as listed below."
   ]
  },
  {
   "cell_type": "markdown",
   "id": "ce6214b9",
   "metadata": {},
   "source": [
    "<html>\n",
    "    <body>\n",
    "        The properties that are tracked are as follows :\n",
    "        <ol>\n",
    "            <li><b>index</b> - Index of the Packet</li>\n",
    "            <li><b>seed</b> - Seed of the Packet</li>\n",
    "            <li><b>status</b> - Current Status for the Packet Interaction</li>\n",
    "            <li><b>r</b> - Radius of the Current Shell</li> \n",
    "            <li><b>nu</b> - Packet's Frequency</li> \n",
    "            <li><b>mu</b> - Propagation Direction of the Packet (cosine of the angle the packet’s path makes with the radial direction)</li>\n",
    "            <li><b>energy</b> - Energy of the Packet</li>\n",
    "            <li><b>shell_id</b> - Current Shell Id where the Packet is present</li>\n",
    "        </ol>\n",
    "    </body>\n",
    "</html>"
   ]
  },
  {
   "cell_type": "markdown",
   "id": "4b0de6ca",
   "metadata": {},
   "source": [
    "<div class=\"alert alert-warning\">\n",
    "\n",
    "Warning\n",
    "\n",
    "Current implementation stores all the data for the interaction of the packets in a `list`, so it needs to accessed with a `list index` for each property for a particular `rpacket`. Examples for the same are shown as follows. \n",
    "</div>"
   ]
  },
  {
   "cell_type": "markdown",
   "id": "1686d9f1",
   "metadata": {},
   "source": [
    "## How to Setup the Tracking for the RPackets?"
   ]
  },
  {
   "cell_type": "markdown",
   "id": "29e14475",
   "metadata": {},
   "source": [
    "**TARDIS**' `rpacket_tracker` is configured via the `YAML` file. This functionality of tracking the packets is turned **off**, by default. This is due to that fact that using this property, may slow down the execution time for the Simulation. An example configuration can be seen below for setting up the *tracking*:\n",
    "\n",
    "```yaml\n",
    "... \n",
    "montecarlo:\n",
    "...\n",
    "tracking:\n",
    "    track_rpacket: true\n",
    "```"
   ]
  },
  {
   "cell_type": "markdown",
   "id": "13b6420b",
   "metadata": {},
   "source": [
    "The `montecarlo` section of the **YAML** file now has a `tracking` sub section which holds the configuration properties for the `track_rpacket` & the `initial_array_length` (discussed later in the tutorial)."
   ]
  },
  {
   "cell_type": "markdown",
   "id": "2634c571",
   "metadata": {},
   "source": [
    "Let us see, the new `rpacket_tracker` in action."
   ]
  },
  {
   "cell_type": "code",
   "execution_count": 1,
   "id": "a0e975b6",
   "metadata": {
    "execution": {
     "iopub.execute_input": "2022-06-29T15:23:18.406233Z",
     "iopub.status.busy": "2022-06-29T15:23:18.405719Z",
     "iopub.status.idle": "2022-06-29T15:23:21.342694Z",
     "shell.execute_reply": "2022-06-29T15:23:21.341247Z"
    }
   },
   "outputs": [
    {
     "name": "stderr",
     "output_type": "stream",
     "text": [
      "/usr/share/miniconda3/envs/tardis/lib/python3.8/site-packages/setuptools_scm/git.py:135: UserWarning: \"/home/runner/work/tardis/tardis\" is shallow and may cause errors\n",
      "  warnings.warn(f'\"{wd.path}\" is shallow and may cause errors')\n"
     ]
    },
    {
     "data": {
      "application/vnd.jupyter.widget-view+json": {
       "model_id": "80b5e8e649b7421d9171554dc7ab15e1",
       "version_major": 2,
       "version_minor": 0
      },
      "text/plain": [
       "Iterations:          0/? [00:00<?, ?it/s]"
      ]
     },
     "metadata": {},
     "output_type": "display_data"
    },
    {
     "data": {
      "application/vnd.jupyter.widget-view+json": {
       "model_id": "08ca236a04e94217a128a32173e34f7c",
       "version_major": 2,
       "version_minor": 0
      },
      "text/plain": [
       "Packets:             0/? [00:00<?, ?it/s]"
      ]
     },
     "metadata": {},
     "output_type": "display_data"
    }
   ],
   "source": [
    "from tardis.io.config_reader import Configuration"
   ]
  },
  {
   "cell_type": "code",
   "execution_count": 2,
   "id": "adbf5f75",
   "metadata": {
    "execution": {
     "iopub.execute_input": "2022-06-29T15:23:21.347031Z",
     "iopub.status.busy": "2022-06-29T15:23:21.346305Z",
     "iopub.status.idle": "2022-06-29T15:23:21.491940Z",
     "shell.execute_reply": "2022-06-29T15:23:21.491135Z"
    }
   },
   "outputs": [],
   "source": [
    "# Reading the Configuration stored in `tardis_config_packet_tracking.yml` into config\n",
    "\n",
    "config = Configuration.from_yaml(\"tardis_example.yml\")"
   ]
  },
  {
   "cell_type": "code",
   "execution_count": 3,
   "id": "975766e9",
   "metadata": {
    "execution": {
     "iopub.execute_input": "2022-06-29T15:23:21.496522Z",
     "iopub.status.busy": "2022-06-29T15:23:21.496029Z",
     "iopub.status.idle": "2022-06-29T15:23:21.505010Z",
     "shell.execute_reply": "2022-06-29T15:23:21.504316Z"
    }
   },
   "outputs": [
    {
     "data": {
      "text/plain": [
       "{'track_rpacket': False, 'initial_array_length': 10}"
      ]
     },
     "execution_count": 3,
     "metadata": {},
     "output_type": "execute_result"
    }
   ],
   "source": [
    "# Checking the `tracking` section via the Schema\n",
    "\n",
    "config[\"montecarlo\"][\"tracking\"]"
   ]
  },
  {
   "cell_type": "code",
   "execution_count": 4,
   "id": "b00bc2ca",
   "metadata": {
    "execution": {
     "iopub.execute_input": "2022-06-29T15:23:21.509039Z",
     "iopub.status.busy": "2022-06-29T15:23:21.508761Z",
     "iopub.status.idle": "2022-06-29T15:23:21.511932Z",
     "shell.execute_reply": "2022-06-29T15:23:21.511265Z"
    }
   },
   "outputs": [],
   "source": [
    "# Setting `r_packet_tracking` to True to turn on the Tracking \n",
    "\n",
    "config[\"montecarlo\"][\"tracking\"][\"track_rpacket\"] = True"
   ]
  },
  {
   "cell_type": "code",
   "execution_count": 5,
   "id": "3ece2c10",
   "metadata": {
    "execution": {
     "iopub.execute_input": "2022-06-29T15:23:21.514861Z",
     "iopub.status.busy": "2022-06-29T15:23:21.514627Z",
     "iopub.status.idle": "2022-06-29T15:23:21.519080Z",
     "shell.execute_reply": "2022-06-29T15:23:21.518361Z"
    }
   },
   "outputs": [
    {
     "data": {
      "text/plain": [
       "{'track_rpacket': True, 'initial_array_length': 10}"
      ]
     },
     "execution_count": 5,
     "metadata": {},
     "output_type": "execute_result"
    }
   ],
   "source": [
    "config[\"montecarlo\"][\"tracking\"]"
   ]
  },
  {
   "cell_type": "code",
   "execution_count": 6,
   "id": "b25271d6",
   "metadata": {
    "execution": {
     "iopub.execute_input": "2022-06-29T15:23:21.522598Z",
     "iopub.status.busy": "2022-06-29T15:23:21.522364Z",
     "iopub.status.idle": "2022-06-29T15:23:21.525177Z",
     "shell.execute_reply": "2022-06-29T15:23:21.524534Z"
    }
   },
   "outputs": [],
   "source": [
    "from tardis import run_tardis"
   ]
  },
  {
   "cell_type": "code",
   "execution_count": 7,
   "id": "f9e51fd3",
   "metadata": {
    "execution": {
     "iopub.execute_input": "2022-06-29T15:23:21.528387Z",
     "iopub.status.busy": "2022-06-29T15:23:21.528179Z",
     "iopub.status.idle": "2022-06-29T15:24:20.418859Z",
     "shell.execute_reply": "2022-06-29T15:24:20.417971Z"
    },
    "scrolled": false
   },
   "outputs": [
    {
     "name": "stdout",
     "output_type": "stream",
     "text": [
      "[\u001b[1mtardis.plasma.standard_plasmas\u001b[0m][\u001b[1;37mINFO\u001b[0m   ]  \n",
      "\t\n",
      "\tReading Atomic Data from kurucz_cd23_chianti_H_He.h5 (\u001b[1mstandard_plasmas.py\u001b[0m:93)\n"
     ]
    },
    {
     "name": "stdout",
     "output_type": "stream",
     "text": [
      "[\u001b[1mtardis.io.atom_data.util\u001b[0m][\u001b[1;37mINFO\u001b[0m   ]  \n",
      "\t\n",
      "\tAtom Data kurucz_cd23_chianti_H_He.h5 not found in local path.\n",
      "\tExists in TARDIS Data repo /home/runner/Downloads/tardis-data/kurucz_cd23_chianti_H_He.h5 (\u001b[1mutil.py\u001b[0m:33)\n"
     ]
    },
    {
     "name": "stdout",
     "output_type": "stream",
     "text": [
      "[\u001b[1mtardis.io.atom_data.base\u001b[0m][\u001b[1;37mINFO\u001b[0m   ]  \n",
      "\tReading Atom Data with: UUID = 6f7b09e887a311e7a06b246e96350010 MD5  = 864f1753714343c41f99cb065710cace  (\u001b[1mbase.py\u001b[0m:249)\n"
     ]
    },
    {
     "name": "stdout",
     "output_type": "stream",
     "text": [
      "[\u001b[1mtardis.io.atom_data.base\u001b[0m][\u001b[1;37mINFO\u001b[0m   ]  \n",
      "\tNon provided Atomic Data: synpp_refs, photoionization_data, yg_data, two_photon_data (\u001b[1mbase.py\u001b[0m:253)\n"
     ]
    },
    {
     "name": "stdout",
     "output_type": "stream",
     "text": [
      "[\u001b[1mpy.warnings         \u001b[0m][\u001b[1;33mWARNING\u001b[0m]  \n",
      "\t/home/runner/work/tardis/tardis/tardis/plasma/properties/radiative_properties.py:93: RuntimeWarning: invalid value encountered in true_divide\n",
      "  (g_lower * n_upper) / (g_upper * n_lower)\n",
      " (\u001b[1mwarnings.py\u001b[0m:109)\n"
     ]
    },
    {
     "name": "stdout",
     "output_type": "stream",
     "text": [
      "[\u001b[1mpy.warnings         \u001b[0m][\u001b[1;33mWARNING\u001b[0m]  \n",
      "\t/home/runner/work/tardis/tardis/tardis/plasma/properties/radiative_properties.py:93: RuntimeWarning: invalid value encountered in true_divide\n",
      "  (g_lower * n_upper) / (g_upper * n_lower)\n",
      " (\u001b[1mwarnings.py\u001b[0m:109)\n"
     ]
    },
    {
     "name": "stdout",
     "output_type": "stream",
     "text": [
      "[\u001b[1mtardis.simulation.base\u001b[0m][\u001b[1;37mINFO\u001b[0m   ]  \n",
      "\t\n",
      "\tStarting iteration 1 of 20 (\u001b[1mbase.py\u001b[0m:378)\n"
     ]
    },
    {
     "name": "stdout",
     "output_type": "stream",
     "text": [
      "[\u001b[1mtardis.simulation.base\u001b[0m][\u001b[1;37mINFO\u001b[0m   ]  \n",
      "\t\n",
      "\tLuminosity emitted   = 7.942e+42 erg / s\n",
      "\tLuminosity absorbed  = 2.659e+42 erg / s\n",
      "\tLuminosity requested = 1.059e+43 erg / s\n",
      " (\u001b[1mbase.py\u001b[0m:547)\n"
     ]
    },
    {
     "name": "stdout",
     "output_type": "stream",
     "text": [
      "[\u001b[1mtardis.simulation.base\u001b[0m][\u001b[1;37mINFO\u001b[0m   ]  \n",
      "\t\n",
      "\tPlasma stratification: (\u001b[1mbase.py\u001b[0m:515)\n"
     ]
    },
    {
     "data": {
      "text/html": [
       "<style  type=\"text/css\" >\n",
       "</style><table id=\"T_7cebe548_f7bf_11ec_8dec_00224824f0c7\" ><thead>    <tr>        <th class=\"index_name level0\" >Shell No.</th>        <th class=\"col_heading level0 col0\" >t_rad</th>        <th class=\"col_heading level0 col1\" >next_t_rad</th>        <th class=\"col_heading level0 col2\" >w</th>        <th class=\"col_heading level0 col3\" >next_w</th>    </tr></thead><tbody>\n",
       "                <tr>\n",
       "                        <th id=\"T_7cebe548_f7bf_11ec_8dec_00224824f0c7level0_row0\" class=\"row_heading level0 row0\" >0</th>\n",
       "                        <td id=\"T_7cebe548_f7bf_11ec_8dec_00224824f0c7row0_col0\" class=\"data row0 col0\" >9.93e+03</td>\n",
       "                        <td id=\"T_7cebe548_f7bf_11ec_8dec_00224824f0c7row0_col1\" class=\"data row0 col1\" >1.01e+04</td>\n",
       "                        <td id=\"T_7cebe548_f7bf_11ec_8dec_00224824f0c7row0_col2\" class=\"data row0 col2\" >0.4</td>\n",
       "                        <td id=\"T_7cebe548_f7bf_11ec_8dec_00224824f0c7row0_col3\" class=\"data row0 col3\" >0.507</td>\n",
       "            </tr>\n",
       "            <tr>\n",
       "                        <th id=\"T_7cebe548_f7bf_11ec_8dec_00224824f0c7level0_row1\" class=\"row_heading level0 row1\" >5</th>\n",
       "                        <td id=\"T_7cebe548_f7bf_11ec_8dec_00224824f0c7row1_col0\" class=\"data row1 col0\" >9.85e+03</td>\n",
       "                        <td id=\"T_7cebe548_f7bf_11ec_8dec_00224824f0c7row1_col1\" class=\"data row1 col1\" >1.02e+04</td>\n",
       "                        <td id=\"T_7cebe548_f7bf_11ec_8dec_00224824f0c7row1_col2\" class=\"data row1 col2\" >0.211</td>\n",
       "                        <td id=\"T_7cebe548_f7bf_11ec_8dec_00224824f0c7row1_col3\" class=\"data row1 col3\" >0.197</td>\n",
       "            </tr>\n",
       "            <tr>\n",
       "                        <th id=\"T_7cebe548_f7bf_11ec_8dec_00224824f0c7level0_row2\" class=\"row_heading level0 row2\" >10</th>\n",
       "                        <td id=\"T_7cebe548_f7bf_11ec_8dec_00224824f0c7row2_col0\" class=\"data row2 col0\" >9.78e+03</td>\n",
       "                        <td id=\"T_7cebe548_f7bf_11ec_8dec_00224824f0c7row2_col1\" class=\"data row2 col1\" >1.01e+04</td>\n",
       "                        <td id=\"T_7cebe548_f7bf_11ec_8dec_00224824f0c7row2_col2\" class=\"data row2 col2\" >0.143</td>\n",
       "                        <td id=\"T_7cebe548_f7bf_11ec_8dec_00224824f0c7row2_col3\" class=\"data row2 col3\" >0.117</td>\n",
       "            </tr>\n",
       "            <tr>\n",
       "                        <th id=\"T_7cebe548_f7bf_11ec_8dec_00224824f0c7level0_row3\" class=\"row_heading level0 row3\" >15</th>\n",
       "                        <td id=\"T_7cebe548_f7bf_11ec_8dec_00224824f0c7row3_col0\" class=\"data row3 col0\" >9.71e+03</td>\n",
       "                        <td id=\"T_7cebe548_f7bf_11ec_8dec_00224824f0c7row3_col1\" class=\"data row3 col1\" >9.87e+03</td>\n",
       "                        <td id=\"T_7cebe548_f7bf_11ec_8dec_00224824f0c7row3_col2\" class=\"data row3 col2\" >0.105</td>\n",
       "                        <td id=\"T_7cebe548_f7bf_11ec_8dec_00224824f0c7row3_col3\" class=\"data row3 col3\" >0.0869</td>\n",
       "            </tr>\n",
       "    </tbody></table>"
      ],
      "text/plain": [
       "<pandas.io.formats.style.Styler at 0x7ff0c5d52a60>"
      ]
     },
     "metadata": {},
     "output_type": "display_data"
    },
    {
     "name": "stdout",
     "output_type": "stream",
     "text": [
      "[\u001b[1mtardis.simulation.base\u001b[0m][\u001b[1;37mINFO\u001b[0m   ]  \n",
      "\t\n",
      "\tCurrent t_inner = 9933.952 K\n",
      "\tExpected t_inner for next iteration = 10703.212 K\n",
      " (\u001b[1mbase.py\u001b[0m:542)\n"
     ]
    },
    {
     "name": "stdout",
     "output_type": "stream",
     "text": [
      "[\u001b[1mpy.warnings         \u001b[0m][\u001b[1;33mWARNING\u001b[0m]  \n",
      "\t/home/runner/work/tardis/tardis/tardis/plasma/properties/radiative_properties.py:93: RuntimeWarning: invalid value encountered in true_divide\n",
      "  (g_lower * n_upper) / (g_upper * n_lower)\n",
      " (\u001b[1mwarnings.py\u001b[0m:109)\n"
     ]
    },
    {
     "name": "stdout",
     "output_type": "stream",
     "text": [
      "[\u001b[1mtardis.simulation.base\u001b[0m][\u001b[1;37mINFO\u001b[0m   ]  \n",
      "\t\n",
      "\tStarting iteration 2 of 20 (\u001b[1mbase.py\u001b[0m:378)\n"
     ]
    },
    {
     "name": "stdout",
     "output_type": "stream",
     "text": [
      "[\u001b[1mtardis.simulation.base\u001b[0m][\u001b[1;37mINFO\u001b[0m   ]  \n",
      "\t\n",
      "\tLuminosity emitted   = 1.071e+43 erg / s\n",
      "\tLuminosity absorbed  = 3.576e+42 erg / s\n",
      "\tLuminosity requested = 1.059e+43 erg / s\n",
      " (\u001b[1mbase.py\u001b[0m:547)\n"
     ]
    },
    {
     "name": "stdout",
     "output_type": "stream",
     "text": [
      "[\u001b[1mtardis.simulation.base\u001b[0m][\u001b[1;37mINFO\u001b[0m   ]  \n",
      "\t\n",
      "\tPlasma stratification: (\u001b[1mbase.py\u001b[0m:515)\n"
     ]
    },
    {
     "data": {
      "text/html": [
       "<style  type=\"text/css\" >\n",
       "</style><table id=\"T_7d8426fa_f7bf_11ec_8dec_00224824f0c7\" ><thead>    <tr>        <th class=\"index_name level0\" >Shell No.</th>        <th class=\"col_heading level0 col0\" >t_rad</th>        <th class=\"col_heading level0 col1\" >next_t_rad</th>        <th class=\"col_heading level0 col2\" >w</th>        <th class=\"col_heading level0 col3\" >next_w</th>    </tr></thead><tbody>\n",
       "                <tr>\n",
       "                        <th id=\"T_7d8426fa_f7bf_11ec_8dec_00224824f0c7level0_row0\" class=\"row_heading level0 row0\" >0</th>\n",
       "                        <td id=\"T_7d8426fa_f7bf_11ec_8dec_00224824f0c7row0_col0\" class=\"data row0 col0\" >1.01e+04</td>\n",
       "                        <td id=\"T_7d8426fa_f7bf_11ec_8dec_00224824f0c7row0_col1\" class=\"data row0 col1\" >1.08e+04</td>\n",
       "                        <td id=\"T_7d8426fa_f7bf_11ec_8dec_00224824f0c7row0_col2\" class=\"data row0 col2\" >0.507</td>\n",
       "                        <td id=\"T_7d8426fa_f7bf_11ec_8dec_00224824f0c7row0_col3\" class=\"data row0 col3\" >0.525</td>\n",
       "            </tr>\n",
       "            <tr>\n",
       "                        <th id=\"T_7d8426fa_f7bf_11ec_8dec_00224824f0c7level0_row1\" class=\"row_heading level0 row1\" >5</th>\n",
       "                        <td id=\"T_7d8426fa_f7bf_11ec_8dec_00224824f0c7row1_col0\" class=\"data row1 col0\" >1.02e+04</td>\n",
       "                        <td id=\"T_7d8426fa_f7bf_11ec_8dec_00224824f0c7row1_col1\" class=\"data row1 col1\" >1.1e+04</td>\n",
       "                        <td id=\"T_7d8426fa_f7bf_11ec_8dec_00224824f0c7row1_col2\" class=\"data row1 col2\" >0.197</td>\n",
       "                        <td id=\"T_7d8426fa_f7bf_11ec_8dec_00224824f0c7row1_col3\" class=\"data row1 col3\" >0.203</td>\n",
       "            </tr>\n",
       "            <tr>\n",
       "                        <th id=\"T_7d8426fa_f7bf_11ec_8dec_00224824f0c7level0_row2\" class=\"row_heading level0 row2\" >10</th>\n",
       "                        <td id=\"T_7d8426fa_f7bf_11ec_8dec_00224824f0c7row2_col0\" class=\"data row2 col0\" >1.01e+04</td>\n",
       "                        <td id=\"T_7d8426fa_f7bf_11ec_8dec_00224824f0c7row2_col1\" class=\"data row2 col1\" >1.08e+04</td>\n",
       "                        <td id=\"T_7d8426fa_f7bf_11ec_8dec_00224824f0c7row2_col2\" class=\"data row2 col2\" >0.117</td>\n",
       "                        <td id=\"T_7d8426fa_f7bf_11ec_8dec_00224824f0c7row2_col3\" class=\"data row2 col3\" >0.125</td>\n",
       "            </tr>\n",
       "            <tr>\n",
       "                        <th id=\"T_7d8426fa_f7bf_11ec_8dec_00224824f0c7level0_row3\" class=\"row_heading level0 row3\" >15</th>\n",
       "                        <td id=\"T_7d8426fa_f7bf_11ec_8dec_00224824f0c7row3_col0\" class=\"data row3 col0\" >9.87e+03</td>\n",
       "                        <td id=\"T_7d8426fa_f7bf_11ec_8dec_00224824f0c7row3_col1\" class=\"data row3 col1\" >1.05e+04</td>\n",
       "                        <td id=\"T_7d8426fa_f7bf_11ec_8dec_00224824f0c7row3_col2\" class=\"data row3 col2\" >0.0869</td>\n",
       "                        <td id=\"T_7d8426fa_f7bf_11ec_8dec_00224824f0c7row3_col3\" class=\"data row3 col3\" >0.0933</td>\n",
       "            </tr>\n",
       "    </tbody></table>"
      ],
      "text/plain": [
       "<pandas.io.formats.style.Styler at 0x7ff0c55d8070>"
      ]
     },
     "metadata": {},
     "output_type": "display_data"
    },
    {
     "name": "stdout",
     "output_type": "stream",
     "text": [
      "[\u001b[1mtardis.simulation.base\u001b[0m][\u001b[1;37mINFO\u001b[0m   ]  \n",
      "\t\n",
      "\tCurrent t_inner = 10703.212 K\n",
      "\tExpected t_inner for next iteration = 10673.712 K\n",
      " (\u001b[1mbase.py\u001b[0m:542)\n"
     ]
    },
    {
     "name": "stdout",
     "output_type": "stream",
     "text": [
      "[\u001b[1mtardis.simulation.base\u001b[0m][\u001b[1;37mINFO\u001b[0m   ]  \n",
      "\t\n",
      "\tStarting iteration 3 of 20 (\u001b[1mbase.py\u001b[0m:378)\n"
     ]
    },
    {
     "name": "stdout",
     "output_type": "stream",
     "text": [
      "[\u001b[1mtardis.simulation.base\u001b[0m][\u001b[1;37mINFO\u001b[0m   ]  \n",
      "\t\n",
      "\tLuminosity emitted   = 1.074e+43 erg / s\n",
      "\tLuminosity absorbed  = 3.391e+42 erg / s\n",
      "\tLuminosity requested = 1.059e+43 erg / s\n",
      " (\u001b[1mbase.py\u001b[0m:547)\n"
     ]
    },
    {
     "name": "stdout",
     "output_type": "stream",
     "text": [
      "[\u001b[1mtardis.simulation.base\u001b[0m][\u001b[1;37mINFO\u001b[0m   ]  \n",
      "\t\n",
      "\tPlasma stratification: (\u001b[1mbase.py\u001b[0m:515)\n"
     ]
    },
    {
     "data": {
      "text/html": [
       "<style  type=\"text/css\" >\n",
       "</style><table id=\"T_7e1292f0_f7bf_11ec_8dec_00224824f0c7\" ><thead>    <tr>        <th class=\"index_name level0\" >Shell No.</th>        <th class=\"col_heading level0 col0\" >t_rad</th>        <th class=\"col_heading level0 col1\" >next_t_rad</th>        <th class=\"col_heading level0 col2\" >w</th>        <th class=\"col_heading level0 col3\" >next_w</th>    </tr></thead><tbody>\n",
       "                <tr>\n",
       "                        <th id=\"T_7e1292f0_f7bf_11ec_8dec_00224824f0c7level0_row0\" class=\"row_heading level0 row0\" >0</th>\n",
       "                        <td id=\"T_7e1292f0_f7bf_11ec_8dec_00224824f0c7row0_col0\" class=\"data row0 col0\" >1.08e+04</td>\n",
       "                        <td id=\"T_7e1292f0_f7bf_11ec_8dec_00224824f0c7row0_col1\" class=\"data row0 col1\" >1.1e+04</td>\n",
       "                        <td id=\"T_7e1292f0_f7bf_11ec_8dec_00224824f0c7row0_col2\" class=\"data row0 col2\" >0.525</td>\n",
       "                        <td id=\"T_7e1292f0_f7bf_11ec_8dec_00224824f0c7row0_col3\" class=\"data row0 col3\" >0.483</td>\n",
       "            </tr>\n",
       "            <tr>\n",
       "                        <th id=\"T_7e1292f0_f7bf_11ec_8dec_00224824f0c7level0_row1\" class=\"row_heading level0 row1\" >5</th>\n",
       "                        <td id=\"T_7e1292f0_f7bf_11ec_8dec_00224824f0c7row1_col0\" class=\"data row1 col0\" >1.1e+04</td>\n",
       "                        <td id=\"T_7e1292f0_f7bf_11ec_8dec_00224824f0c7row1_col1\" class=\"data row1 col1\" >1.12e+04</td>\n",
       "                        <td id=\"T_7e1292f0_f7bf_11ec_8dec_00224824f0c7row1_col2\" class=\"data row1 col2\" >0.203</td>\n",
       "                        <td id=\"T_7e1292f0_f7bf_11ec_8dec_00224824f0c7row1_col3\" class=\"data row1 col3\" >0.189</td>\n",
       "            </tr>\n",
       "            <tr>\n",
       "                        <th id=\"T_7e1292f0_f7bf_11ec_8dec_00224824f0c7level0_row2\" class=\"row_heading level0 row2\" >10</th>\n",
       "                        <td id=\"T_7e1292f0_f7bf_11ec_8dec_00224824f0c7row2_col0\" class=\"data row2 col0\" >1.08e+04</td>\n",
       "                        <td id=\"T_7e1292f0_f7bf_11ec_8dec_00224824f0c7row2_col1\" class=\"data row2 col1\" >1.1e+04</td>\n",
       "                        <td id=\"T_7e1292f0_f7bf_11ec_8dec_00224824f0c7row2_col2\" class=\"data row2 col2\" >0.125</td>\n",
       "                        <td id=\"T_7e1292f0_f7bf_11ec_8dec_00224824f0c7row2_col3\" class=\"data row2 col3\" >0.118</td>\n",
       "            </tr>\n",
       "            <tr>\n",
       "                        <th id=\"T_7e1292f0_f7bf_11ec_8dec_00224824f0c7level0_row3\" class=\"row_heading level0 row3\" >15</th>\n",
       "                        <td id=\"T_7e1292f0_f7bf_11ec_8dec_00224824f0c7row3_col0\" class=\"data row3 col0\" >1.05e+04</td>\n",
       "                        <td id=\"T_7e1292f0_f7bf_11ec_8dec_00224824f0c7row3_col1\" class=\"data row3 col1\" >1.06e+04</td>\n",
       "                        <td id=\"T_7e1292f0_f7bf_11ec_8dec_00224824f0c7row3_col2\" class=\"data row3 col2\" >0.0933</td>\n",
       "                        <td id=\"T_7e1292f0_f7bf_11ec_8dec_00224824f0c7row3_col3\" class=\"data row3 col3\" >0.0895</td>\n",
       "            </tr>\n",
       "    </tbody></table>"
      ],
      "text/plain": [
       "<pandas.io.formats.style.Styler at 0x7ff0c55d8af0>"
      ]
     },
     "metadata": {},
     "output_type": "display_data"
    },
    {
     "name": "stdout",
     "output_type": "stream",
     "text": [
      "[\u001b[1mtardis.simulation.base\u001b[0m][\u001b[1;37mINFO\u001b[0m   ]  \n",
      "\t\n",
      "\tCurrent t_inner = 10673.712 K\n",
      "\tExpected t_inner for next iteration = 10635.953 K\n",
      " (\u001b[1mbase.py\u001b[0m:542)\n"
     ]
    },
    {
     "name": "stdout",
     "output_type": "stream",
     "text": [
      "[\u001b[1mtardis.simulation.base\u001b[0m][\u001b[1;37mINFO\u001b[0m   ]  \n",
      "\t\n",
      "\tStarting iteration 4 of 20 (\u001b[1mbase.py\u001b[0m:378)\n"
     ]
    },
    {
     "name": "stdout",
     "output_type": "stream",
     "text": [
      "[\u001b[1mtardis.simulation.base\u001b[0m][\u001b[1;37mINFO\u001b[0m   ]  \n",
      "\t\n",
      "\tLuminosity emitted   = 1.058e+43 erg / s\n",
      "\tLuminosity absorbed  = 3.352e+42 erg / s\n",
      "\tLuminosity requested = 1.059e+43 erg / s\n",
      " (\u001b[1mbase.py\u001b[0m:547)\n"
     ]
    },
    {
     "name": "stdout",
     "output_type": "stream",
     "text": [
      "[\u001b[1mtardis.simulation.base\u001b[0m][\u001b[1;37mINFO\u001b[0m   ]  \n",
      "\t\n",
      "\tPlasma stratification: (\u001b[1mbase.py\u001b[0m:515)\n"
     ]
    },
    {
     "data": {
      "text/html": [
       "<style  type=\"text/css\" >\n",
       "</style><table id=\"T_7ea778a2_f7bf_11ec_8dec_00224824f0c7\" ><thead>    <tr>        <th class=\"index_name level0\" >Shell No.</th>        <th class=\"col_heading level0 col0\" >t_rad</th>        <th class=\"col_heading level0 col1\" >next_t_rad</th>        <th class=\"col_heading level0 col2\" >w</th>        <th class=\"col_heading level0 col3\" >next_w</th>    </tr></thead><tbody>\n",
       "                <tr>\n",
       "                        <th id=\"T_7ea778a2_f7bf_11ec_8dec_00224824f0c7level0_row0\" class=\"row_heading level0 row0\" >0</th>\n",
       "                        <td id=\"T_7ea778a2_f7bf_11ec_8dec_00224824f0c7row0_col0\" class=\"data row0 col0\" >1.1e+04</td>\n",
       "                        <td id=\"T_7ea778a2_f7bf_11ec_8dec_00224824f0c7row0_col1\" class=\"data row0 col1\" >1.1e+04</td>\n",
       "                        <td id=\"T_7ea778a2_f7bf_11ec_8dec_00224824f0c7row0_col2\" class=\"data row0 col2\" >0.483</td>\n",
       "                        <td id=\"T_7ea778a2_f7bf_11ec_8dec_00224824f0c7row0_col3\" class=\"data row0 col3\" >0.469</td>\n",
       "            </tr>\n",
       "            <tr>\n",
       "                        <th id=\"T_7ea778a2_f7bf_11ec_8dec_00224824f0c7level0_row1\" class=\"row_heading level0 row1\" >5</th>\n",
       "                        <td id=\"T_7ea778a2_f7bf_11ec_8dec_00224824f0c7row1_col0\" class=\"data row1 col0\" >1.12e+04</td>\n",
       "                        <td id=\"T_7ea778a2_f7bf_11ec_8dec_00224824f0c7row1_col1\" class=\"data row1 col1\" >1.12e+04</td>\n",
       "                        <td id=\"T_7ea778a2_f7bf_11ec_8dec_00224824f0c7row1_col2\" class=\"data row1 col2\" >0.189</td>\n",
       "                        <td id=\"T_7ea778a2_f7bf_11ec_8dec_00224824f0c7row1_col3\" class=\"data row1 col3\" >0.182</td>\n",
       "            </tr>\n",
       "            <tr>\n",
       "                        <th id=\"T_7ea778a2_f7bf_11ec_8dec_00224824f0c7level0_row2\" class=\"row_heading level0 row2\" >10</th>\n",
       "                        <td id=\"T_7ea778a2_f7bf_11ec_8dec_00224824f0c7row2_col0\" class=\"data row2 col0\" >1.1e+04</td>\n",
       "                        <td id=\"T_7ea778a2_f7bf_11ec_8dec_00224824f0c7row2_col1\" class=\"data row2 col1\" >1.1e+04</td>\n",
       "                        <td id=\"T_7ea778a2_f7bf_11ec_8dec_00224824f0c7row2_col2\" class=\"data row2 col2\" >0.118</td>\n",
       "                        <td id=\"T_7ea778a2_f7bf_11ec_8dec_00224824f0c7row2_col3\" class=\"data row2 col3\" >0.113</td>\n",
       "            </tr>\n",
       "            <tr>\n",
       "                        <th id=\"T_7ea778a2_f7bf_11ec_8dec_00224824f0c7level0_row3\" class=\"row_heading level0 row3\" >15</th>\n",
       "                        <td id=\"T_7ea778a2_f7bf_11ec_8dec_00224824f0c7row3_col0\" class=\"data row3 col0\" >1.06e+04</td>\n",
       "                        <td id=\"T_7ea778a2_f7bf_11ec_8dec_00224824f0c7row3_col1\" class=\"data row3 col1\" >1.07e+04</td>\n",
       "                        <td id=\"T_7ea778a2_f7bf_11ec_8dec_00224824f0c7row3_col2\" class=\"data row3 col2\" >0.0895</td>\n",
       "                        <td id=\"T_7ea778a2_f7bf_11ec_8dec_00224824f0c7row3_col3\" class=\"data row3 col3\" >0.0861</td>\n",
       "            </tr>\n",
       "    </tbody></table>"
      ],
      "text/plain": [
       "<pandas.io.formats.style.Styler at 0x7ff0c56fa1f0>"
      ]
     },
     "metadata": {},
     "output_type": "display_data"
    },
    {
     "name": "stdout",
     "output_type": "stream",
     "text": [
      "[\u001b[1mtardis.simulation.base\u001b[0m][\u001b[1;37mINFO\u001b[0m   ]  \n",
      "\t\n",
      "\tCurrent t_inner = 10635.953 K\n",
      "\tExpected t_inner for next iteration = 10638.407 K\n",
      " (\u001b[1mbase.py\u001b[0m:542)\n"
     ]
    },
    {
     "name": "stdout",
     "output_type": "stream",
     "text": [
      "[\u001b[1mtardis.simulation.base\u001b[0m][\u001b[1;37mINFO\u001b[0m   ]  \n",
      "\t\n",
      "\tStarting iteration 5 of 20 (\u001b[1mbase.py\u001b[0m:378)\n"
     ]
    },
    {
     "name": "stdout",
     "output_type": "stream",
     "text": [
      "[\u001b[1mtardis.simulation.base\u001b[0m][\u001b[1;37mINFO\u001b[0m   ]  \n",
      "\t\n",
      "\tLuminosity emitted   = 1.055e+43 erg / s\n",
      "\tLuminosity absorbed  = 3.399e+42 erg / s\n",
      "\tLuminosity requested = 1.059e+43 erg / s\n",
      " (\u001b[1mbase.py\u001b[0m:547)\n"
     ]
    },
    {
     "name": "stdout",
     "output_type": "stream",
     "text": [
      "[\u001b[1mtardis.simulation.base\u001b[0m][\u001b[1;37mINFO\u001b[0m   ]  \n",
      "\tIteration converged 1/4 consecutive times. (\u001b[1mbase.py\u001b[0m:259)\n"
     ]
    },
    {
     "name": "stdout",
     "output_type": "stream",
     "text": [
      "[\u001b[1mtardis.simulation.base\u001b[0m][\u001b[1;37mINFO\u001b[0m   ]  \n",
      "\t\n",
      "\tPlasma stratification: (\u001b[1mbase.py\u001b[0m:515)\n"
     ]
    },
    {
     "data": {
      "text/html": [
       "<style  type=\"text/css\" >\n",
       "</style><table id=\"T_7f3f2b70_f7bf_11ec_8dec_00224824f0c7\" ><thead>    <tr>        <th class=\"index_name level0\" >Shell No.</th>        <th class=\"col_heading level0 col0\" >t_rad</th>        <th class=\"col_heading level0 col1\" >next_t_rad</th>        <th class=\"col_heading level0 col2\" >w</th>        <th class=\"col_heading level0 col3\" >next_w</th>    </tr></thead><tbody>\n",
       "                <tr>\n",
       "                        <th id=\"T_7f3f2b70_f7bf_11ec_8dec_00224824f0c7level0_row0\" class=\"row_heading level0 row0\" >0</th>\n",
       "                        <td id=\"T_7f3f2b70_f7bf_11ec_8dec_00224824f0c7row0_col0\" class=\"data row0 col0\" >1.1e+04</td>\n",
       "                        <td id=\"T_7f3f2b70_f7bf_11ec_8dec_00224824f0c7row0_col1\" class=\"data row0 col1\" >1.1e+04</td>\n",
       "                        <td id=\"T_7f3f2b70_f7bf_11ec_8dec_00224824f0c7row0_col2\" class=\"data row0 col2\" >0.469</td>\n",
       "                        <td id=\"T_7f3f2b70_f7bf_11ec_8dec_00224824f0c7row0_col3\" class=\"data row0 col3\" >0.479</td>\n",
       "            </tr>\n",
       "            <tr>\n",
       "                        <th id=\"T_7f3f2b70_f7bf_11ec_8dec_00224824f0c7level0_row1\" class=\"row_heading level0 row1\" >5</th>\n",
       "                        <td id=\"T_7f3f2b70_f7bf_11ec_8dec_00224824f0c7row1_col0\" class=\"data row1 col0\" >1.12e+04</td>\n",
       "                        <td id=\"T_7f3f2b70_f7bf_11ec_8dec_00224824f0c7row1_col1\" class=\"data row1 col1\" >1.13e+04</td>\n",
       "                        <td id=\"T_7f3f2b70_f7bf_11ec_8dec_00224824f0c7row1_col2\" class=\"data row1 col2\" >0.182</td>\n",
       "                        <td id=\"T_7f3f2b70_f7bf_11ec_8dec_00224824f0c7row1_col3\" class=\"data row1 col3\" >0.178</td>\n",
       "            </tr>\n",
       "            <tr>\n",
       "                        <th id=\"T_7f3f2b70_f7bf_11ec_8dec_00224824f0c7level0_row2\" class=\"row_heading level0 row2\" >10</th>\n",
       "                        <td id=\"T_7f3f2b70_f7bf_11ec_8dec_00224824f0c7row2_col0\" class=\"data row2 col0\" >1.1e+04</td>\n",
       "                        <td id=\"T_7f3f2b70_f7bf_11ec_8dec_00224824f0c7row2_col1\" class=\"data row2 col1\" >1.1e+04</td>\n",
       "                        <td id=\"T_7f3f2b70_f7bf_11ec_8dec_00224824f0c7row2_col2\" class=\"data row2 col2\" >0.113</td>\n",
       "                        <td id=\"T_7f3f2b70_f7bf_11ec_8dec_00224824f0c7row2_col3\" class=\"data row2 col3\" >0.113</td>\n",
       "            </tr>\n",
       "            <tr>\n",
       "                        <th id=\"T_7f3f2b70_f7bf_11ec_8dec_00224824f0c7level0_row3\" class=\"row_heading level0 row3\" >15</th>\n",
       "                        <td id=\"T_7f3f2b70_f7bf_11ec_8dec_00224824f0c7row3_col0\" class=\"data row3 col0\" >1.07e+04</td>\n",
       "                        <td id=\"T_7f3f2b70_f7bf_11ec_8dec_00224824f0c7row3_col1\" class=\"data row3 col1\" >1.07e+04</td>\n",
       "                        <td id=\"T_7f3f2b70_f7bf_11ec_8dec_00224824f0c7row3_col2\" class=\"data row3 col2\" >0.0861</td>\n",
       "                        <td id=\"T_7f3f2b70_f7bf_11ec_8dec_00224824f0c7row3_col3\" class=\"data row3 col3\" >0.0839</td>\n",
       "            </tr>\n",
       "    </tbody></table>"
      ],
      "text/plain": [
       "<pandas.io.formats.style.Styler at 0x7ff0c55d88b0>"
      ]
     },
     "metadata": {},
     "output_type": "display_data"
    },
    {
     "name": "stdout",
     "output_type": "stream",
     "text": [
      "[\u001b[1mtardis.simulation.base\u001b[0m][\u001b[1;37mINFO\u001b[0m   ]  \n",
      "\t\n",
      "\tCurrent t_inner = 10638.407 K\n",
      "\tExpected t_inner for next iteration = 10650.202 K\n",
      " (\u001b[1mbase.py\u001b[0m:542)\n"
     ]
    },
    {
     "name": "stdout",
     "output_type": "stream",
     "text": [
      "[\u001b[1mtardis.simulation.base\u001b[0m][\u001b[1;37mINFO\u001b[0m   ]  \n",
      "\t\n",
      "\tStarting iteration 6 of 20 (\u001b[1mbase.py\u001b[0m:378)\n"
     ]
    },
    {
     "name": "stdout",
     "output_type": "stream",
     "text": [
      "[\u001b[1mtardis.simulation.base\u001b[0m][\u001b[1;37mINFO\u001b[0m   ]  \n",
      "\t\n",
      "\tLuminosity emitted   = 1.061e+43 erg / s\n",
      "\tLuminosity absorbed  = 3.398e+42 erg / s\n",
      "\tLuminosity requested = 1.059e+43 erg / s\n",
      " (\u001b[1mbase.py\u001b[0m:547)\n"
     ]
    },
    {
     "name": "stdout",
     "output_type": "stream",
     "text": [
      "[\u001b[1mtardis.simulation.base\u001b[0m][\u001b[1;37mINFO\u001b[0m   ]  \n",
      "\tIteration converged 2/4 consecutive times. (\u001b[1mbase.py\u001b[0m:259)\n"
     ]
    },
    {
     "name": "stdout",
     "output_type": "stream",
     "text": [
      "[\u001b[1mtardis.simulation.base\u001b[0m][\u001b[1;37mINFO\u001b[0m   ]  \n",
      "\t\n",
      "\tPlasma stratification: (\u001b[1mbase.py\u001b[0m:515)\n"
     ]
    },
    {
     "data": {
      "text/html": [
       "<style  type=\"text/css\" >\n",
       "</style><table id=\"T_7fd087f0_f7bf_11ec_8dec_00224824f0c7\" ><thead>    <tr>        <th class=\"index_name level0\" >Shell No.</th>        <th class=\"col_heading level0 col0\" >t_rad</th>        <th class=\"col_heading level0 col1\" >next_t_rad</th>        <th class=\"col_heading level0 col2\" >w</th>        <th class=\"col_heading level0 col3\" >next_w</th>    </tr></thead><tbody>\n",
       "                <tr>\n",
       "                        <th id=\"T_7fd087f0_f7bf_11ec_8dec_00224824f0c7level0_row0\" class=\"row_heading level0 row0\" >0</th>\n",
       "                        <td id=\"T_7fd087f0_f7bf_11ec_8dec_00224824f0c7row0_col0\" class=\"data row0 col0\" >1.1e+04</td>\n",
       "                        <td id=\"T_7fd087f0_f7bf_11ec_8dec_00224824f0c7row0_col1\" class=\"data row0 col1\" >1.1e+04</td>\n",
       "                        <td id=\"T_7fd087f0_f7bf_11ec_8dec_00224824f0c7row0_col2\" class=\"data row0 col2\" >0.479</td>\n",
       "                        <td id=\"T_7fd087f0_f7bf_11ec_8dec_00224824f0c7row0_col3\" class=\"data row0 col3\" >0.47</td>\n",
       "            </tr>\n",
       "            <tr>\n",
       "                        <th id=\"T_7fd087f0_f7bf_11ec_8dec_00224824f0c7level0_row1\" class=\"row_heading level0 row1\" >5</th>\n",
       "                        <td id=\"T_7fd087f0_f7bf_11ec_8dec_00224824f0c7row1_col0\" class=\"data row1 col0\" >1.13e+04</td>\n",
       "                        <td id=\"T_7fd087f0_f7bf_11ec_8dec_00224824f0c7row1_col1\" class=\"data row1 col1\" >1.12e+04</td>\n",
       "                        <td id=\"T_7fd087f0_f7bf_11ec_8dec_00224824f0c7row1_col2\" class=\"data row1 col2\" >0.178</td>\n",
       "                        <td id=\"T_7fd087f0_f7bf_11ec_8dec_00224824f0c7row1_col3\" class=\"data row1 col3\" >0.185</td>\n",
       "            </tr>\n",
       "            <tr>\n",
       "                        <th id=\"T_7fd087f0_f7bf_11ec_8dec_00224824f0c7level0_row2\" class=\"row_heading level0 row2\" >10</th>\n",
       "                        <td id=\"T_7fd087f0_f7bf_11ec_8dec_00224824f0c7row2_col0\" class=\"data row2 col0\" >1.1e+04</td>\n",
       "                        <td id=\"T_7fd087f0_f7bf_11ec_8dec_00224824f0c7row2_col1\" class=\"data row2 col1\" >1.11e+04</td>\n",
       "                        <td id=\"T_7fd087f0_f7bf_11ec_8dec_00224824f0c7row2_col2\" class=\"data row2 col2\" >0.113</td>\n",
       "                        <td id=\"T_7fd087f0_f7bf_11ec_8dec_00224824f0c7row2_col3\" class=\"data row2 col3\" >0.112</td>\n",
       "            </tr>\n",
       "            <tr>\n",
       "                        <th id=\"T_7fd087f0_f7bf_11ec_8dec_00224824f0c7level0_row3\" class=\"row_heading level0 row3\" >15</th>\n",
       "                        <td id=\"T_7fd087f0_f7bf_11ec_8dec_00224824f0c7row3_col0\" class=\"data row3 col0\" >1.07e+04</td>\n",
       "                        <td id=\"T_7fd087f0_f7bf_11ec_8dec_00224824f0c7row3_col1\" class=\"data row3 col1\" >1.07e+04</td>\n",
       "                        <td id=\"T_7fd087f0_f7bf_11ec_8dec_00224824f0c7row3_col2\" class=\"data row3 col2\" >0.0839</td>\n",
       "                        <td id=\"T_7fd087f0_f7bf_11ec_8dec_00224824f0c7row3_col3\" class=\"data row3 col3\" >0.0856</td>\n",
       "            </tr>\n",
       "    </tbody></table>"
      ],
      "text/plain": [
       "<pandas.io.formats.style.Styler at 0x7ff0c55b5c10>"
      ]
     },
     "metadata": {},
     "output_type": "display_data"
    },
    {
     "name": "stdout",
     "output_type": "stream",
     "text": [
      "[\u001b[1mtardis.simulation.base\u001b[0m][\u001b[1;37mINFO\u001b[0m   ]  \n",
      "\t\n",
      "\tCurrent t_inner = 10650.202 K\n",
      "\tExpected t_inner for next iteration = 10645.955 K\n",
      " (\u001b[1mbase.py\u001b[0m:542)\n"
     ]
    },
    {
     "name": "stdout",
     "output_type": "stream",
     "text": [
      "[\u001b[1mtardis.simulation.base\u001b[0m][\u001b[1;37mINFO\u001b[0m   ]  \n",
      "\t\n",
      "\tStarting iteration 7 of 20 (\u001b[1mbase.py\u001b[0m:378)\n"
     ]
    },
    {
     "name": "stdout",
     "output_type": "stream",
     "text": [
      "[\u001b[1mtardis.simulation.base\u001b[0m][\u001b[1;37mINFO\u001b[0m   ]  \n",
      "\t\n",
      "\tLuminosity emitted   = 1.061e+43 erg / s\n",
      "\tLuminosity absorbed  = 3.382e+42 erg / s\n",
      "\tLuminosity requested = 1.059e+43 erg / s\n",
      " (\u001b[1mbase.py\u001b[0m:547)\n"
     ]
    },
    {
     "name": "stdout",
     "output_type": "stream",
     "text": [
      "[\u001b[1mtardis.simulation.base\u001b[0m][\u001b[1;37mINFO\u001b[0m   ]  \n",
      "\tIteration converged 3/4 consecutive times. (\u001b[1mbase.py\u001b[0m:259)\n"
     ]
    },
    {
     "name": "stdout",
     "output_type": "stream",
     "text": [
      "[\u001b[1mtardis.simulation.base\u001b[0m][\u001b[1;37mINFO\u001b[0m   ]  \n",
      "\t\n",
      "\tPlasma stratification: (\u001b[1mbase.py\u001b[0m:515)\n"
     ]
    },
    {
     "data": {
      "text/html": [
       "<style  type=\"text/css\" >\n",
       "</style><table id=\"T_8063518e_f7bf_11ec_8dec_00224824f0c7\" ><thead>    <tr>        <th class=\"index_name level0\" >Shell No.</th>        <th class=\"col_heading level0 col0\" >t_rad</th>        <th class=\"col_heading level0 col1\" >next_t_rad</th>        <th class=\"col_heading level0 col2\" >w</th>        <th class=\"col_heading level0 col3\" >next_w</th>    </tr></thead><tbody>\n",
       "                <tr>\n",
       "                        <th id=\"T_8063518e_f7bf_11ec_8dec_00224824f0c7level0_row0\" class=\"row_heading level0 row0\" >0</th>\n",
       "                        <td id=\"T_8063518e_f7bf_11ec_8dec_00224824f0c7row0_col0\" class=\"data row0 col0\" >1.1e+04</td>\n",
       "                        <td id=\"T_8063518e_f7bf_11ec_8dec_00224824f0c7row0_col1\" class=\"data row0 col1\" >1.1e+04</td>\n",
       "                        <td id=\"T_8063518e_f7bf_11ec_8dec_00224824f0c7row0_col2\" class=\"data row0 col2\" >0.47</td>\n",
       "                        <td id=\"T_8063518e_f7bf_11ec_8dec_00224824f0c7row0_col3\" class=\"data row0 col3\" >0.47</td>\n",
       "            </tr>\n",
       "            <tr>\n",
       "                        <th id=\"T_8063518e_f7bf_11ec_8dec_00224824f0c7level0_row1\" class=\"row_heading level0 row1\" >5</th>\n",
       "                        <td id=\"T_8063518e_f7bf_11ec_8dec_00224824f0c7row1_col0\" class=\"data row1 col0\" >1.12e+04</td>\n",
       "                        <td id=\"T_8063518e_f7bf_11ec_8dec_00224824f0c7row1_col1\" class=\"data row1 col1\" >1.13e+04</td>\n",
       "                        <td id=\"T_8063518e_f7bf_11ec_8dec_00224824f0c7row1_col2\" class=\"data row1 col2\" >0.185</td>\n",
       "                        <td id=\"T_8063518e_f7bf_11ec_8dec_00224824f0c7row1_col3\" class=\"data row1 col3\" >0.178</td>\n",
       "            </tr>\n",
       "            <tr>\n",
       "                        <th id=\"T_8063518e_f7bf_11ec_8dec_00224824f0c7level0_row2\" class=\"row_heading level0 row2\" >10</th>\n",
       "                        <td id=\"T_8063518e_f7bf_11ec_8dec_00224824f0c7row2_col0\" class=\"data row2 col0\" >1.11e+04</td>\n",
       "                        <td id=\"T_8063518e_f7bf_11ec_8dec_00224824f0c7row2_col1\" class=\"data row2 col1\" >1.11e+04</td>\n",
       "                        <td id=\"T_8063518e_f7bf_11ec_8dec_00224824f0c7row2_col2\" class=\"data row2 col2\" >0.112</td>\n",
       "                        <td id=\"T_8063518e_f7bf_11ec_8dec_00224824f0c7row2_col3\" class=\"data row2 col3\" >0.112</td>\n",
       "            </tr>\n",
       "            <tr>\n",
       "                        <th id=\"T_8063518e_f7bf_11ec_8dec_00224824f0c7level0_row3\" class=\"row_heading level0 row3\" >15</th>\n",
       "                        <td id=\"T_8063518e_f7bf_11ec_8dec_00224824f0c7row3_col0\" class=\"data row3 col0\" >1.07e+04</td>\n",
       "                        <td id=\"T_8063518e_f7bf_11ec_8dec_00224824f0c7row3_col1\" class=\"data row3 col1\" >1.07e+04</td>\n",
       "                        <td id=\"T_8063518e_f7bf_11ec_8dec_00224824f0c7row3_col2\" class=\"data row3 col2\" >0.0856</td>\n",
       "                        <td id=\"T_8063518e_f7bf_11ec_8dec_00224824f0c7row3_col3\" class=\"data row3 col3\" >0.086</td>\n",
       "            </tr>\n",
       "    </tbody></table>"
      ],
      "text/plain": [
       "<pandas.io.formats.style.Styler at 0x7ff0c5dbe040>"
      ]
     },
     "metadata": {},
     "output_type": "display_data"
    },
    {
     "name": "stdout",
     "output_type": "stream",
     "text": [
      "[\u001b[1mtardis.simulation.base\u001b[0m][\u001b[1;37mINFO\u001b[0m   ]  \n",
      "\t\n",
      "\tCurrent t_inner = 10645.955 K\n",
      "\tExpected t_inner for next iteration = 10642.050 K\n",
      " (\u001b[1mbase.py\u001b[0m:542)\n"
     ]
    },
    {
     "name": "stdout",
     "output_type": "stream",
     "text": [
      "[\u001b[1mtardis.simulation.base\u001b[0m][\u001b[1;37mINFO\u001b[0m   ]  \n",
      "\t\n",
      "\tStarting iteration 8 of 20 (\u001b[1mbase.py\u001b[0m:378)\n"
     ]
    },
    {
     "name": "stdout",
     "output_type": "stream",
     "text": [
      "[\u001b[1mtardis.simulation.base\u001b[0m][\u001b[1;37mINFO\u001b[0m   ]  \n",
      "\t\n",
      "\tLuminosity emitted   = 1.062e+43 erg / s\n",
      "\tLuminosity absorbed  = 3.350e+42 erg / s\n",
      "\tLuminosity requested = 1.059e+43 erg / s\n",
      " (\u001b[1mbase.py\u001b[0m:547)\n"
     ]
    },
    {
     "name": "stdout",
     "output_type": "stream",
     "text": [
      "[\u001b[1mtardis.simulation.base\u001b[0m][\u001b[1;37mINFO\u001b[0m   ]  \n",
      "\tIteration converged 4/4 consecutive times. (\u001b[1mbase.py\u001b[0m:259)\n"
     ]
    },
    {
     "name": "stdout",
     "output_type": "stream",
     "text": [
      "[\u001b[1mtardis.simulation.base\u001b[0m][\u001b[1;37mINFO\u001b[0m   ]  \n",
      "\t\n",
      "\tPlasma stratification: (\u001b[1mbase.py\u001b[0m:515)\n"
     ]
    },
    {
     "data": {
      "text/html": [
       "<style  type=\"text/css\" >\n",
       "</style><table id=\"T_80f61bea_f7bf_11ec_8dec_00224824f0c7\" ><thead>    <tr>        <th class=\"index_name level0\" >Shell No.</th>        <th class=\"col_heading level0 col0\" >t_rad</th>        <th class=\"col_heading level0 col1\" >next_t_rad</th>        <th class=\"col_heading level0 col2\" >w</th>        <th class=\"col_heading level0 col3\" >next_w</th>    </tr></thead><tbody>\n",
       "                <tr>\n",
       "                        <th id=\"T_80f61bea_f7bf_11ec_8dec_00224824f0c7level0_row0\" class=\"row_heading level0 row0\" >0</th>\n",
       "                        <td id=\"T_80f61bea_f7bf_11ec_8dec_00224824f0c7row0_col0\" class=\"data row0 col0\" >1.1e+04</td>\n",
       "                        <td id=\"T_80f61bea_f7bf_11ec_8dec_00224824f0c7row0_col1\" class=\"data row0 col1\" >1.11e+04</td>\n",
       "                        <td id=\"T_80f61bea_f7bf_11ec_8dec_00224824f0c7row0_col2\" class=\"data row0 col2\" >0.47</td>\n",
       "                        <td id=\"T_80f61bea_f7bf_11ec_8dec_00224824f0c7row0_col3\" class=\"data row0 col3\" >0.472</td>\n",
       "            </tr>\n",
       "            <tr>\n",
       "                        <th id=\"T_80f61bea_f7bf_11ec_8dec_00224824f0c7level0_row1\" class=\"row_heading level0 row1\" >5</th>\n",
       "                        <td id=\"T_80f61bea_f7bf_11ec_8dec_00224824f0c7row1_col0\" class=\"data row1 col0\" >1.13e+04</td>\n",
       "                        <td id=\"T_80f61bea_f7bf_11ec_8dec_00224824f0c7row1_col1\" class=\"data row1 col1\" >1.14e+04</td>\n",
       "                        <td id=\"T_80f61bea_f7bf_11ec_8dec_00224824f0c7row1_col2\" class=\"data row1 col2\" >0.178</td>\n",
       "                        <td id=\"T_80f61bea_f7bf_11ec_8dec_00224824f0c7row1_col3\" class=\"data row1 col3\" >0.175</td>\n",
       "            </tr>\n",
       "            <tr>\n",
       "                        <th id=\"T_80f61bea_f7bf_11ec_8dec_00224824f0c7level0_row2\" class=\"row_heading level0 row2\" >10</th>\n",
       "                        <td id=\"T_80f61bea_f7bf_11ec_8dec_00224824f0c7row2_col0\" class=\"data row2 col0\" >1.11e+04</td>\n",
       "                        <td id=\"T_80f61bea_f7bf_11ec_8dec_00224824f0c7row2_col1\" class=\"data row2 col1\" >1.11e+04</td>\n",
       "                        <td id=\"T_80f61bea_f7bf_11ec_8dec_00224824f0c7row2_col2\" class=\"data row2 col2\" >0.112</td>\n",
       "                        <td id=\"T_80f61bea_f7bf_11ec_8dec_00224824f0c7row2_col3\" class=\"data row2 col3\" >0.111</td>\n",
       "            </tr>\n",
       "            <tr>\n",
       "                        <th id=\"T_80f61bea_f7bf_11ec_8dec_00224824f0c7level0_row3\" class=\"row_heading level0 row3\" >15</th>\n",
       "                        <td id=\"T_80f61bea_f7bf_11ec_8dec_00224824f0c7row3_col0\" class=\"data row3 col0\" >1.07e+04</td>\n",
       "                        <td id=\"T_80f61bea_f7bf_11ec_8dec_00224824f0c7row3_col1\" class=\"data row3 col1\" >1.07e+04</td>\n",
       "                        <td id=\"T_80f61bea_f7bf_11ec_8dec_00224824f0c7row3_col2\" class=\"data row3 col2\" >0.086</td>\n",
       "                        <td id=\"T_80f61bea_f7bf_11ec_8dec_00224824f0c7row3_col3\" class=\"data row3 col3\" >0.084</td>\n",
       "            </tr>\n",
       "    </tbody></table>"
      ],
      "text/plain": [
       "<pandas.io.formats.style.Styler at 0x7ff0c7d50f70>"
      ]
     },
     "metadata": {},
     "output_type": "display_data"
    },
    {
     "name": "stdout",
     "output_type": "stream",
     "text": [
      "[\u001b[1mtardis.simulation.base\u001b[0m][\u001b[1;37mINFO\u001b[0m   ]  \n",
      "\t\n",
      "\tCurrent t_inner = 10642.050 K\n",
      "\tExpected t_inner for next iteration = 10636.106 K\n",
      " (\u001b[1mbase.py\u001b[0m:542)\n"
     ]
    },
    {
     "name": "stdout",
     "output_type": "stream",
     "text": [
      "[\u001b[1mtardis.simulation.base\u001b[0m][\u001b[1;37mINFO\u001b[0m   ]  \n",
      "\t\n",
      "\tStarting iteration 9 of 20 (\u001b[1mbase.py\u001b[0m:378)\n"
     ]
    },
    {
     "name": "stdout",
     "output_type": "stream",
     "text": [
      "[\u001b[1mtardis.simulation.base\u001b[0m][\u001b[1;37mINFO\u001b[0m   ]  \n",
      "\t\n",
      "\tLuminosity emitted   = 1.052e+43 erg / s\n",
      "\tLuminosity absorbed  = 3.411e+42 erg / s\n",
      "\tLuminosity requested = 1.059e+43 erg / s\n",
      " (\u001b[1mbase.py\u001b[0m:547)\n"
     ]
    },
    {
     "name": "stdout",
     "output_type": "stream",
     "text": [
      "[\u001b[1mtardis.simulation.base\u001b[0m][\u001b[1;37mINFO\u001b[0m   ]  \n",
      "\tIteration converged 5/4 consecutive times. (\u001b[1mbase.py\u001b[0m:259)\n"
     ]
    },
    {
     "name": "stdout",
     "output_type": "stream",
     "text": [
      "[\u001b[1mtardis.simulation.base\u001b[0m][\u001b[1;37mINFO\u001b[0m   ]  \n",
      "\t\n",
      "\tPlasma stratification: (\u001b[1mbase.py\u001b[0m:515)\n"
     ]
    },
    {
     "data": {
      "text/html": [
       "<style  type=\"text/css\" >\n",
       "</style><table id=\"T_8186bfc4_f7bf_11ec_8dec_00224824f0c7\" ><thead>    <tr>        <th class=\"index_name level0\" >Shell No.</th>        <th class=\"col_heading level0 col0\" >t_rad</th>        <th class=\"col_heading level0 col1\" >next_t_rad</th>        <th class=\"col_heading level0 col2\" >w</th>        <th class=\"col_heading level0 col3\" >next_w</th>    </tr></thead><tbody>\n",
       "                <tr>\n",
       "                        <th id=\"T_8186bfc4_f7bf_11ec_8dec_00224824f0c7level0_row0\" class=\"row_heading level0 row0\" >0</th>\n",
       "                        <td id=\"T_8186bfc4_f7bf_11ec_8dec_00224824f0c7row0_col0\" class=\"data row0 col0\" >1.11e+04</td>\n",
       "                        <td id=\"T_8186bfc4_f7bf_11ec_8dec_00224824f0c7row0_col1\" class=\"data row0 col1\" >1.11e+04</td>\n",
       "                        <td id=\"T_8186bfc4_f7bf_11ec_8dec_00224824f0c7row0_col2\" class=\"data row0 col2\" >0.472</td>\n",
       "                        <td id=\"T_8186bfc4_f7bf_11ec_8dec_00224824f0c7row0_col3\" class=\"data row0 col3\" >0.469</td>\n",
       "            </tr>\n",
       "            <tr>\n",
       "                        <th id=\"T_8186bfc4_f7bf_11ec_8dec_00224824f0c7level0_row1\" class=\"row_heading level0 row1\" >5</th>\n",
       "                        <td id=\"T_8186bfc4_f7bf_11ec_8dec_00224824f0c7row1_col0\" class=\"data row1 col0\" >1.14e+04</td>\n",
       "                        <td id=\"T_8186bfc4_f7bf_11ec_8dec_00224824f0c7row1_col1\" class=\"data row1 col1\" >1.15e+04</td>\n",
       "                        <td id=\"T_8186bfc4_f7bf_11ec_8dec_00224824f0c7row1_col2\" class=\"data row1 col2\" >0.175</td>\n",
       "                        <td id=\"T_8186bfc4_f7bf_11ec_8dec_00224824f0c7row1_col3\" class=\"data row1 col3\" >0.17</td>\n",
       "            </tr>\n",
       "            <tr>\n",
       "                        <th id=\"T_8186bfc4_f7bf_11ec_8dec_00224824f0c7level0_row2\" class=\"row_heading level0 row2\" >10</th>\n",
       "                        <td id=\"T_8186bfc4_f7bf_11ec_8dec_00224824f0c7row2_col0\" class=\"data row2 col0\" >1.11e+04</td>\n",
       "                        <td id=\"T_8186bfc4_f7bf_11ec_8dec_00224824f0c7row2_col1\" class=\"data row2 col1\" >1.11e+04</td>\n",
       "                        <td id=\"T_8186bfc4_f7bf_11ec_8dec_00224824f0c7row2_col2\" class=\"data row2 col2\" >0.111</td>\n",
       "                        <td id=\"T_8186bfc4_f7bf_11ec_8dec_00224824f0c7row2_col3\" class=\"data row2 col3\" >0.109</td>\n",
       "            </tr>\n",
       "            <tr>\n",
       "                        <th id=\"T_8186bfc4_f7bf_11ec_8dec_00224824f0c7level0_row3\" class=\"row_heading level0 row3\" >15</th>\n",
       "                        <td id=\"T_8186bfc4_f7bf_11ec_8dec_00224824f0c7row3_col0\" class=\"data row3 col0\" >1.07e+04</td>\n",
       "                        <td id=\"T_8186bfc4_f7bf_11ec_8dec_00224824f0c7row3_col1\" class=\"data row3 col1\" >1.08e+04</td>\n",
       "                        <td id=\"T_8186bfc4_f7bf_11ec_8dec_00224824f0c7row3_col2\" class=\"data row3 col2\" >0.084</td>\n",
       "                        <td id=\"T_8186bfc4_f7bf_11ec_8dec_00224824f0c7row3_col3\" class=\"data row3 col3\" >0.0822</td>\n",
       "            </tr>\n",
       "    </tbody></table>"
      ],
      "text/plain": [
       "<pandas.io.formats.style.Styler at 0x7ff0c4fc9eb0>"
      ]
     },
     "metadata": {},
     "output_type": "display_data"
    },
    {
     "name": "stdout",
     "output_type": "stream",
     "text": [
      "[\u001b[1mtardis.simulation.base\u001b[0m][\u001b[1;37mINFO\u001b[0m   ]  \n",
      "\t\n",
      "\tCurrent t_inner = 10636.106 K\n",
      "\tExpected t_inner for next iteration = 10654.313 K\n",
      " (\u001b[1mbase.py\u001b[0m:542)\n"
     ]
    },
    {
     "name": "stdout",
     "output_type": "stream",
     "text": [
      "[\u001b[1mtardis.simulation.base\u001b[0m][\u001b[1;37mINFO\u001b[0m   ]  \n",
      "\t\n",
      "\tStarting iteration 10 of 20 (\u001b[1mbase.py\u001b[0m:378)\n"
     ]
    },
    {
     "name": "stdout",
     "output_type": "stream",
     "text": [
      "[\u001b[1mtardis.simulation.base\u001b[0m][\u001b[1;37mINFO\u001b[0m   ]  \n",
      "\t\n",
      "\tLuminosity emitted   = 1.070e+43 erg / s\n",
      "\tLuminosity absorbed  = 3.335e+42 erg / s\n",
      "\tLuminosity requested = 1.059e+43 erg / s\n",
      " (\u001b[1mbase.py\u001b[0m:547)\n"
     ]
    },
    {
     "name": "stdout",
     "output_type": "stream",
     "text": [
      "[\u001b[1mtardis.simulation.base\u001b[0m][\u001b[1;37mINFO\u001b[0m   ]  \n",
      "\t\n",
      "\tPlasma stratification: (\u001b[1mbase.py\u001b[0m:515)\n"
     ]
    },
    {
     "data": {
      "text/html": [
       "<style  type=\"text/css\" >\n",
       "</style><table id=\"T_8216e158_f7bf_11ec_8dec_00224824f0c7\" ><thead>    <tr>        <th class=\"index_name level0\" >Shell No.</th>        <th class=\"col_heading level0 col0\" >t_rad</th>        <th class=\"col_heading level0 col1\" >next_t_rad</th>        <th class=\"col_heading level0 col2\" >w</th>        <th class=\"col_heading level0 col3\" >next_w</th>    </tr></thead><tbody>\n",
       "                <tr>\n",
       "                        <th id=\"T_8216e158_f7bf_11ec_8dec_00224824f0c7level0_row0\" class=\"row_heading level0 row0\" >0</th>\n",
       "                        <td id=\"T_8216e158_f7bf_11ec_8dec_00224824f0c7row0_col0\" class=\"data row0 col0\" >1.11e+04</td>\n",
       "                        <td id=\"T_8216e158_f7bf_11ec_8dec_00224824f0c7row0_col1\" class=\"data row0 col1\" >1.1e+04</td>\n",
       "                        <td id=\"T_8216e158_f7bf_11ec_8dec_00224824f0c7row0_col2\" class=\"data row0 col2\" >0.469</td>\n",
       "                        <td id=\"T_8216e158_f7bf_11ec_8dec_00224824f0c7row0_col3\" class=\"data row0 col3\" >0.475</td>\n",
       "            </tr>\n",
       "            <tr>\n",
       "                        <th id=\"T_8216e158_f7bf_11ec_8dec_00224824f0c7level0_row1\" class=\"row_heading level0 row1\" >5</th>\n",
       "                        <td id=\"T_8216e158_f7bf_11ec_8dec_00224824f0c7row1_col0\" class=\"data row1 col0\" >1.15e+04</td>\n",
       "                        <td id=\"T_8216e158_f7bf_11ec_8dec_00224824f0c7row1_col1\" class=\"data row1 col1\" >1.14e+04</td>\n",
       "                        <td id=\"T_8216e158_f7bf_11ec_8dec_00224824f0c7row1_col2\" class=\"data row1 col2\" >0.17</td>\n",
       "                        <td id=\"T_8216e158_f7bf_11ec_8dec_00224824f0c7row1_col3\" class=\"data row1 col3\" >0.177</td>\n",
       "            </tr>\n",
       "            <tr>\n",
       "                        <th id=\"T_8216e158_f7bf_11ec_8dec_00224824f0c7level0_row2\" class=\"row_heading level0 row2\" >10</th>\n",
       "                        <td id=\"T_8216e158_f7bf_11ec_8dec_00224824f0c7row2_col0\" class=\"data row2 col0\" >1.11e+04</td>\n",
       "                        <td id=\"T_8216e158_f7bf_11ec_8dec_00224824f0c7row2_col1\" class=\"data row2 col1\" >1.11e+04</td>\n",
       "                        <td id=\"T_8216e158_f7bf_11ec_8dec_00224824f0c7row2_col2\" class=\"data row2 col2\" >0.109</td>\n",
       "                        <td id=\"T_8216e158_f7bf_11ec_8dec_00224824f0c7row2_col3\" class=\"data row2 col3\" >0.112</td>\n",
       "            </tr>\n",
       "            <tr>\n",
       "                        <th id=\"T_8216e158_f7bf_11ec_8dec_00224824f0c7level0_row3\" class=\"row_heading level0 row3\" >15</th>\n",
       "                        <td id=\"T_8216e158_f7bf_11ec_8dec_00224824f0c7row3_col0\" class=\"data row3 col0\" >1.08e+04</td>\n",
       "                        <td id=\"T_8216e158_f7bf_11ec_8dec_00224824f0c7row3_col1\" class=\"data row3 col1\" >1.06e+04</td>\n",
       "                        <td id=\"T_8216e158_f7bf_11ec_8dec_00224824f0c7row3_col2\" class=\"data row3 col2\" >0.0822</td>\n",
       "                        <td id=\"T_8216e158_f7bf_11ec_8dec_00224824f0c7row3_col3\" class=\"data row3 col3\" >0.0878</td>\n",
       "            </tr>\n",
       "    </tbody></table>"
      ],
      "text/plain": [
       "<pandas.io.formats.style.Styler at 0x7ff0c55d8220>"
      ]
     },
     "metadata": {},
     "output_type": "display_data"
    },
    {
     "name": "stdout",
     "output_type": "stream",
     "text": [
      "[\u001b[1mtardis.simulation.base\u001b[0m][\u001b[1;37mINFO\u001b[0m   ]  \n",
      "\t\n",
      "\tCurrent t_inner = 10654.313 K\n",
      "\tExpected t_inner for next iteration = 10628.190 K\n",
      " (\u001b[1mbase.py\u001b[0m:542)\n"
     ]
    },
    {
     "name": "stdout",
     "output_type": "stream",
     "text": [
      "[\u001b[1mtardis.simulation.base\u001b[0m][\u001b[1;37mINFO\u001b[0m   ]  \n",
      "\t\n",
      "\tStarting iteration 11 of 20 (\u001b[1mbase.py\u001b[0m:378)\n"
     ]
    },
    {
     "name": "stdout",
     "output_type": "stream",
     "text": [
      "[\u001b[1mtardis.simulation.base\u001b[0m][\u001b[1;37mINFO\u001b[0m   ]  \n",
      "\t\n",
      "\tLuminosity emitted   = 1.053e+43 erg / s\n",
      "\tLuminosity absorbed  = 3.363e+42 erg / s\n",
      "\tLuminosity requested = 1.059e+43 erg / s\n",
      " (\u001b[1mbase.py\u001b[0m:547)\n"
     ]
    },
    {
     "name": "stdout",
     "output_type": "stream",
     "text": [
      "[\u001b[1mtardis.simulation.base\u001b[0m][\u001b[1;37mINFO\u001b[0m   ]  \n",
      "\tIteration converged 1/4 consecutive times. (\u001b[1mbase.py\u001b[0m:259)\n"
     ]
    },
    {
     "name": "stdout",
     "output_type": "stream",
     "text": [
      "[\u001b[1mtardis.simulation.base\u001b[0m][\u001b[1;37mINFO\u001b[0m   ]  \n",
      "\t\n",
      "\tPlasma stratification: (\u001b[1mbase.py\u001b[0m:515)\n"
     ]
    },
    {
     "data": {
      "text/html": [
       "<style  type=\"text/css\" >\n",
       "</style><table id=\"T_82a5fc44_f7bf_11ec_8dec_00224824f0c7\" ><thead>    <tr>        <th class=\"index_name level0\" >Shell No.</th>        <th class=\"col_heading level0 col0\" >t_rad</th>        <th class=\"col_heading level0 col1\" >next_t_rad</th>        <th class=\"col_heading level0 col2\" >w</th>        <th class=\"col_heading level0 col3\" >next_w</th>    </tr></thead><tbody>\n",
       "                <tr>\n",
       "                        <th id=\"T_82a5fc44_f7bf_11ec_8dec_00224824f0c7level0_row0\" class=\"row_heading level0 row0\" >0</th>\n",
       "                        <td id=\"T_82a5fc44_f7bf_11ec_8dec_00224824f0c7row0_col0\" class=\"data row0 col0\" >1.1e+04</td>\n",
       "                        <td id=\"T_82a5fc44_f7bf_11ec_8dec_00224824f0c7row0_col1\" class=\"data row0 col1\" >1.1e+04</td>\n",
       "                        <td id=\"T_82a5fc44_f7bf_11ec_8dec_00224824f0c7row0_col2\" class=\"data row0 col2\" >0.475</td>\n",
       "                        <td id=\"T_82a5fc44_f7bf_11ec_8dec_00224824f0c7row0_col3\" class=\"data row0 col3\" >0.472</td>\n",
       "            </tr>\n",
       "            <tr>\n",
       "                        <th id=\"T_82a5fc44_f7bf_11ec_8dec_00224824f0c7level0_row1\" class=\"row_heading level0 row1\" >5</th>\n",
       "                        <td id=\"T_82a5fc44_f7bf_11ec_8dec_00224824f0c7row1_col0\" class=\"data row1 col0\" >1.14e+04</td>\n",
       "                        <td id=\"T_82a5fc44_f7bf_11ec_8dec_00224824f0c7row1_col1\" class=\"data row1 col1\" >1.12e+04</td>\n",
       "                        <td id=\"T_82a5fc44_f7bf_11ec_8dec_00224824f0c7row1_col2\" class=\"data row1 col2\" >0.177</td>\n",
       "                        <td id=\"T_82a5fc44_f7bf_11ec_8dec_00224824f0c7row1_col3\" class=\"data row1 col3\" >0.184</td>\n",
       "            </tr>\n",
       "            <tr>\n",
       "                        <th id=\"T_82a5fc44_f7bf_11ec_8dec_00224824f0c7level0_row2\" class=\"row_heading level0 row2\" >10</th>\n",
       "                        <td id=\"T_82a5fc44_f7bf_11ec_8dec_00224824f0c7row2_col0\" class=\"data row2 col0\" >1.11e+04</td>\n",
       "                        <td id=\"T_82a5fc44_f7bf_11ec_8dec_00224824f0c7row2_col1\" class=\"data row2 col1\" >1.1e+04</td>\n",
       "                        <td id=\"T_82a5fc44_f7bf_11ec_8dec_00224824f0c7row2_col2\" class=\"data row2 col2\" >0.112</td>\n",
       "                        <td id=\"T_82a5fc44_f7bf_11ec_8dec_00224824f0c7row2_col3\" class=\"data row2 col3\" >0.114</td>\n",
       "            </tr>\n",
       "            <tr>\n",
       "                        <th id=\"T_82a5fc44_f7bf_11ec_8dec_00224824f0c7level0_row3\" class=\"row_heading level0 row3\" >15</th>\n",
       "                        <td id=\"T_82a5fc44_f7bf_11ec_8dec_00224824f0c7row3_col0\" class=\"data row3 col0\" >1.06e+04</td>\n",
       "                        <td id=\"T_82a5fc44_f7bf_11ec_8dec_00224824f0c7row3_col1\" class=\"data row3 col1\" >1.06e+04</td>\n",
       "                        <td id=\"T_82a5fc44_f7bf_11ec_8dec_00224824f0c7row3_col2\" class=\"data row3 col2\" >0.0878</td>\n",
       "                        <td id=\"T_82a5fc44_f7bf_11ec_8dec_00224824f0c7row3_col3\" class=\"data row3 col3\" >0.0859</td>\n",
       "            </tr>\n",
       "    </tbody></table>"
      ],
      "text/plain": [
       "<pandas.io.formats.style.Styler at 0x7ff0c4fc9b50>"
      ]
     },
     "metadata": {},
     "output_type": "display_data"
    },
    {
     "name": "stdout",
     "output_type": "stream",
     "text": [
      "[\u001b[1mtardis.simulation.base\u001b[0m][\u001b[1;37mINFO\u001b[0m   ]  \n",
      "\t\n",
      "\tCurrent t_inner = 10628.190 K\n",
      "\tExpected t_inner for next iteration = 10644.054 K\n",
      " (\u001b[1mbase.py\u001b[0m:542)\n"
     ]
    },
    {
     "name": "stdout",
     "output_type": "stream",
     "text": [
      "[\u001b[1mtardis.simulation.base\u001b[0m][\u001b[1;37mINFO\u001b[0m   ]  \n",
      "\t\n",
      "\tStarting iteration 12 of 20 (\u001b[1mbase.py\u001b[0m:378)\n"
     ]
    },
    {
     "name": "stdout",
     "output_type": "stream",
     "text": [
      "[\u001b[1mtardis.simulation.base\u001b[0m][\u001b[1;37mINFO\u001b[0m   ]  \n",
      "\t\n",
      "\tLuminosity emitted   = 1.056e+43 erg / s\n",
      "\tLuminosity absorbed  = 3.420e+42 erg / s\n",
      "\tLuminosity requested = 1.059e+43 erg / s\n",
      " (\u001b[1mbase.py\u001b[0m:547)\n"
     ]
    },
    {
     "name": "stdout",
     "output_type": "stream",
     "text": [
      "[\u001b[1mtardis.simulation.base\u001b[0m][\u001b[1;37mINFO\u001b[0m   ]  \n",
      "\t\n",
      "\tPlasma stratification: (\u001b[1mbase.py\u001b[0m:515)\n"
     ]
    },
    {
     "data": {
      "text/html": [
       "<style  type=\"text/css\" >\n",
       "</style><table id=\"T_8337ef5a_f7bf_11ec_8dec_00224824f0c7\" ><thead>    <tr>        <th class=\"index_name level0\" >Shell No.</th>        <th class=\"col_heading level0 col0\" >t_rad</th>        <th class=\"col_heading level0 col1\" >next_t_rad</th>        <th class=\"col_heading level0 col2\" >w</th>        <th class=\"col_heading level0 col3\" >next_w</th>    </tr></thead><tbody>\n",
       "                <tr>\n",
       "                        <th id=\"T_8337ef5a_f7bf_11ec_8dec_00224824f0c7level0_row0\" class=\"row_heading level0 row0\" >0</th>\n",
       "                        <td id=\"T_8337ef5a_f7bf_11ec_8dec_00224824f0c7row0_col0\" class=\"data row0 col0\" >1.1e+04</td>\n",
       "                        <td id=\"T_8337ef5a_f7bf_11ec_8dec_00224824f0c7row0_col1\" class=\"data row0 col1\" >1.11e+04</td>\n",
       "                        <td id=\"T_8337ef5a_f7bf_11ec_8dec_00224824f0c7row0_col2\" class=\"data row0 col2\" >0.472</td>\n",
       "                        <td id=\"T_8337ef5a_f7bf_11ec_8dec_00224824f0c7row0_col3\" class=\"data row0 col3\" >0.467</td>\n",
       "            </tr>\n",
       "            <tr>\n",
       "                        <th id=\"T_8337ef5a_f7bf_11ec_8dec_00224824f0c7level0_row1\" class=\"row_heading level0 row1\" >5</th>\n",
       "                        <td id=\"T_8337ef5a_f7bf_11ec_8dec_00224824f0c7row1_col0\" class=\"data row1 col0\" >1.12e+04</td>\n",
       "                        <td id=\"T_8337ef5a_f7bf_11ec_8dec_00224824f0c7row1_col1\" class=\"data row1 col1\" >1.13e+04</td>\n",
       "                        <td id=\"T_8337ef5a_f7bf_11ec_8dec_00224824f0c7row1_col2\" class=\"data row1 col2\" >0.184</td>\n",
       "                        <td id=\"T_8337ef5a_f7bf_11ec_8dec_00224824f0c7row1_col3\" class=\"data row1 col3\" >0.176</td>\n",
       "            </tr>\n",
       "            <tr>\n",
       "                        <th id=\"T_8337ef5a_f7bf_11ec_8dec_00224824f0c7level0_row2\" class=\"row_heading level0 row2\" >10</th>\n",
       "                        <td id=\"T_8337ef5a_f7bf_11ec_8dec_00224824f0c7row2_col0\" class=\"data row2 col0\" >1.1e+04</td>\n",
       "                        <td id=\"T_8337ef5a_f7bf_11ec_8dec_00224824f0c7row2_col1\" class=\"data row2 col1\" >1.11e+04</td>\n",
       "                        <td id=\"T_8337ef5a_f7bf_11ec_8dec_00224824f0c7row2_col2\" class=\"data row2 col2\" >0.114</td>\n",
       "                        <td id=\"T_8337ef5a_f7bf_11ec_8dec_00224824f0c7row2_col3\" class=\"data row2 col3\" >0.11</td>\n",
       "            </tr>\n",
       "            <tr>\n",
       "                        <th id=\"T_8337ef5a_f7bf_11ec_8dec_00224824f0c7level0_row3\" class=\"row_heading level0 row3\" >15</th>\n",
       "                        <td id=\"T_8337ef5a_f7bf_11ec_8dec_00224824f0c7row3_col0\" class=\"data row3 col0\" >1.06e+04</td>\n",
       "                        <td id=\"T_8337ef5a_f7bf_11ec_8dec_00224824f0c7row3_col1\" class=\"data row3 col1\" >1.08e+04</td>\n",
       "                        <td id=\"T_8337ef5a_f7bf_11ec_8dec_00224824f0c7row3_col2\" class=\"data row3 col2\" >0.0859</td>\n",
       "                        <td id=\"T_8337ef5a_f7bf_11ec_8dec_00224824f0c7row3_col3\" class=\"data row3 col3\" >0.0821</td>\n",
       "            </tr>\n",
       "    </tbody></table>"
      ],
      "text/plain": [
       "<pandas.io.formats.style.Styler at 0x7ff0c55b5100>"
      ]
     },
     "metadata": {},
     "output_type": "display_data"
    },
    {
     "name": "stdout",
     "output_type": "stream",
     "text": [
      "[\u001b[1mtardis.simulation.base\u001b[0m][\u001b[1;37mINFO\u001b[0m   ]  \n",
      "\t\n",
      "\tCurrent t_inner = 10644.054 K\n",
      "\tExpected t_inner for next iteration = 10653.543 K\n",
      " (\u001b[1mbase.py\u001b[0m:542)\n"
     ]
    },
    {
     "name": "stdout",
     "output_type": "stream",
     "text": [
      "[\u001b[1mtardis.simulation.base\u001b[0m][\u001b[1;37mINFO\u001b[0m   ]  \n",
      "\t\n",
      "\tStarting iteration 13 of 20 (\u001b[1mbase.py\u001b[0m:378)\n"
     ]
    },
    {
     "name": "stdout",
     "output_type": "stream",
     "text": [
      "[\u001b[1mtardis.simulation.base\u001b[0m][\u001b[1;37mINFO\u001b[0m   ]  \n",
      "\t\n",
      "\tLuminosity emitted   = 1.062e+43 erg / s\n",
      "\tLuminosity absorbed  = 3.406e+42 erg / s\n",
      "\tLuminosity requested = 1.059e+43 erg / s\n",
      " (\u001b[1mbase.py\u001b[0m:547)\n"
     ]
    },
    {
     "name": "stdout",
     "output_type": "stream",
     "text": [
      "[\u001b[1mtardis.simulation.base\u001b[0m][\u001b[1;37mINFO\u001b[0m   ]  \n",
      "\tIteration converged 1/4 consecutive times. (\u001b[1mbase.py\u001b[0m:259)\n"
     ]
    },
    {
     "name": "stdout",
     "output_type": "stream",
     "text": [
      "[\u001b[1mtardis.simulation.base\u001b[0m][\u001b[1;37mINFO\u001b[0m   ]  \n",
      "\t\n",
      "\tPlasma stratification: (\u001b[1mbase.py\u001b[0m:515)\n"
     ]
    },
    {
     "data": {
      "text/html": [
       "<style  type=\"text/css\" >\n",
       "</style><table id=\"T_83cd3678_f7bf_11ec_8dec_00224824f0c7\" ><thead>    <tr>        <th class=\"index_name level0\" >Shell No.</th>        <th class=\"col_heading level0 col0\" >t_rad</th>        <th class=\"col_heading level0 col1\" >next_t_rad</th>        <th class=\"col_heading level0 col2\" >w</th>        <th class=\"col_heading level0 col3\" >next_w</th>    </tr></thead><tbody>\n",
       "                <tr>\n",
       "                        <th id=\"T_83cd3678_f7bf_11ec_8dec_00224824f0c7level0_row0\" class=\"row_heading level0 row0\" >0</th>\n",
       "                        <td id=\"T_83cd3678_f7bf_11ec_8dec_00224824f0c7row0_col0\" class=\"data row0 col0\" >1.11e+04</td>\n",
       "                        <td id=\"T_83cd3678_f7bf_11ec_8dec_00224824f0c7row0_col1\" class=\"data row0 col1\" >1.11e+04</td>\n",
       "                        <td id=\"T_83cd3678_f7bf_11ec_8dec_00224824f0c7row0_col2\" class=\"data row0 col2\" >0.467</td>\n",
       "                        <td id=\"T_83cd3678_f7bf_11ec_8dec_00224824f0c7row0_col3\" class=\"data row0 col3\" >0.466</td>\n",
       "            </tr>\n",
       "            <tr>\n",
       "                        <th id=\"T_83cd3678_f7bf_11ec_8dec_00224824f0c7level0_row1\" class=\"row_heading level0 row1\" >5</th>\n",
       "                        <td id=\"T_83cd3678_f7bf_11ec_8dec_00224824f0c7row1_col0\" class=\"data row1 col0\" >1.13e+04</td>\n",
       "                        <td id=\"T_83cd3678_f7bf_11ec_8dec_00224824f0c7row1_col1\" class=\"data row1 col1\" >1.13e+04</td>\n",
       "                        <td id=\"T_83cd3678_f7bf_11ec_8dec_00224824f0c7row1_col2\" class=\"data row1 col2\" >0.176</td>\n",
       "                        <td id=\"T_83cd3678_f7bf_11ec_8dec_00224824f0c7row1_col3\" class=\"data row1 col3\" >0.18</td>\n",
       "            </tr>\n",
       "            <tr>\n",
       "                        <th id=\"T_83cd3678_f7bf_11ec_8dec_00224824f0c7level0_row2\" class=\"row_heading level0 row2\" >10</th>\n",
       "                        <td id=\"T_83cd3678_f7bf_11ec_8dec_00224824f0c7row2_col0\" class=\"data row2 col0\" >1.11e+04</td>\n",
       "                        <td id=\"T_83cd3678_f7bf_11ec_8dec_00224824f0c7row2_col1\" class=\"data row2 col1\" >1.11e+04</td>\n",
       "                        <td id=\"T_83cd3678_f7bf_11ec_8dec_00224824f0c7row2_col2\" class=\"data row2 col2\" >0.11</td>\n",
       "                        <td id=\"T_83cd3678_f7bf_11ec_8dec_00224824f0c7row2_col3\" class=\"data row2 col3\" >0.111</td>\n",
       "            </tr>\n",
       "            <tr>\n",
       "                        <th id=\"T_83cd3678_f7bf_11ec_8dec_00224824f0c7level0_row3\" class=\"row_heading level0 row3\" >15</th>\n",
       "                        <td id=\"T_83cd3678_f7bf_11ec_8dec_00224824f0c7row3_col0\" class=\"data row3 col0\" >1.08e+04</td>\n",
       "                        <td id=\"T_83cd3678_f7bf_11ec_8dec_00224824f0c7row3_col1\" class=\"data row3 col1\" >1.08e+04</td>\n",
       "                        <td id=\"T_83cd3678_f7bf_11ec_8dec_00224824f0c7row3_col2\" class=\"data row3 col2\" >0.0821</td>\n",
       "                        <td id=\"T_83cd3678_f7bf_11ec_8dec_00224824f0c7row3_col3\" class=\"data row3 col3\" >0.0841</td>\n",
       "            </tr>\n",
       "    </tbody></table>"
      ],
      "text/plain": [
       "<pandas.io.formats.style.Styler at 0x7ff0c524a160>"
      ]
     },
     "metadata": {},
     "output_type": "display_data"
    },
    {
     "name": "stdout",
     "output_type": "stream",
     "text": [
      "[\u001b[1mtardis.simulation.base\u001b[0m][\u001b[1;37mINFO\u001b[0m   ]  \n",
      "\t\n",
      "\tCurrent t_inner = 10653.543 K\n",
      "\tExpected t_inner for next iteration = 10647.277 K\n",
      " (\u001b[1mbase.py\u001b[0m:542)\n"
     ]
    },
    {
     "name": "stdout",
     "output_type": "stream",
     "text": [
      "[\u001b[1mtardis.simulation.base\u001b[0m][\u001b[1;37mINFO\u001b[0m   ]  \n",
      "\t\n",
      "\tStarting iteration 14 of 20 (\u001b[1mbase.py\u001b[0m:378)\n"
     ]
    },
    {
     "name": "stdout",
     "output_type": "stream",
     "text": [
      "[\u001b[1mtardis.simulation.base\u001b[0m][\u001b[1;37mINFO\u001b[0m   ]  \n",
      "\t\n",
      "\tLuminosity emitted   = 1.063e+43 erg / s\n",
      "\tLuminosity absorbed  = 3.369e+42 erg / s\n",
      "\tLuminosity requested = 1.059e+43 erg / s\n",
      " (\u001b[1mbase.py\u001b[0m:547)\n"
     ]
    },
    {
     "name": "stdout",
     "output_type": "stream",
     "text": [
      "[\u001b[1mtardis.simulation.base\u001b[0m][\u001b[1;37mINFO\u001b[0m   ]  \n",
      "\tIteration converged 2/4 consecutive times. (\u001b[1mbase.py\u001b[0m:259)\n"
     ]
    },
    {
     "name": "stdout",
     "output_type": "stream",
     "text": [
      "[\u001b[1mtardis.simulation.base\u001b[0m][\u001b[1;37mINFO\u001b[0m   ]  \n",
      "\t\n",
      "\tPlasma stratification: (\u001b[1mbase.py\u001b[0m:515)\n"
     ]
    },
    {
     "data": {
      "text/html": [
       "<style  type=\"text/css\" >\n",
       "</style><table id=\"T_845e892a_f7bf_11ec_8dec_00224824f0c7\" ><thead>    <tr>        <th class=\"index_name level0\" >Shell No.</th>        <th class=\"col_heading level0 col0\" >t_rad</th>        <th class=\"col_heading level0 col1\" >next_t_rad</th>        <th class=\"col_heading level0 col2\" >w</th>        <th class=\"col_heading level0 col3\" >next_w</th>    </tr></thead><tbody>\n",
       "                <tr>\n",
       "                        <th id=\"T_845e892a_f7bf_11ec_8dec_00224824f0c7level0_row0\" class=\"row_heading level0 row0\" >0</th>\n",
       "                        <td id=\"T_845e892a_f7bf_11ec_8dec_00224824f0c7row0_col0\" class=\"data row0 col0\" >1.11e+04</td>\n",
       "                        <td id=\"T_845e892a_f7bf_11ec_8dec_00224824f0c7row0_col1\" class=\"data row0 col1\" >1.11e+04</td>\n",
       "                        <td id=\"T_845e892a_f7bf_11ec_8dec_00224824f0c7row0_col2\" class=\"data row0 col2\" >0.466</td>\n",
       "                        <td id=\"T_845e892a_f7bf_11ec_8dec_00224824f0c7row0_col3\" class=\"data row0 col3\" >0.469</td>\n",
       "            </tr>\n",
       "            <tr>\n",
       "                        <th id=\"T_845e892a_f7bf_11ec_8dec_00224824f0c7level0_row1\" class=\"row_heading level0 row1\" >5</th>\n",
       "                        <td id=\"T_845e892a_f7bf_11ec_8dec_00224824f0c7row1_col0\" class=\"data row1 col0\" >1.13e+04</td>\n",
       "                        <td id=\"T_845e892a_f7bf_11ec_8dec_00224824f0c7row1_col1\" class=\"data row1 col1\" >1.13e+04</td>\n",
       "                        <td id=\"T_845e892a_f7bf_11ec_8dec_00224824f0c7row1_col2\" class=\"data row1 col2\" >0.18</td>\n",
       "                        <td id=\"T_845e892a_f7bf_11ec_8dec_00224824f0c7row1_col3\" class=\"data row1 col3\" >0.182</td>\n",
       "            </tr>\n",
       "            <tr>\n",
       "                        <th id=\"T_845e892a_f7bf_11ec_8dec_00224824f0c7level0_row2\" class=\"row_heading level0 row2\" >10</th>\n",
       "                        <td id=\"T_845e892a_f7bf_11ec_8dec_00224824f0c7row2_col0\" class=\"data row2 col0\" >1.11e+04</td>\n",
       "                        <td id=\"T_845e892a_f7bf_11ec_8dec_00224824f0c7row2_col1\" class=\"data row2 col1\" >1.1e+04</td>\n",
       "                        <td id=\"T_845e892a_f7bf_11ec_8dec_00224824f0c7row2_col2\" class=\"data row2 col2\" >0.111</td>\n",
       "                        <td id=\"T_845e892a_f7bf_11ec_8dec_00224824f0c7row2_col3\" class=\"data row2 col3\" >0.113</td>\n",
       "            </tr>\n",
       "            <tr>\n",
       "                        <th id=\"T_845e892a_f7bf_11ec_8dec_00224824f0c7level0_row3\" class=\"row_heading level0 row3\" >15</th>\n",
       "                        <td id=\"T_845e892a_f7bf_11ec_8dec_00224824f0c7row3_col0\" class=\"data row3 col0\" >1.08e+04</td>\n",
       "                        <td id=\"T_845e892a_f7bf_11ec_8dec_00224824f0c7row3_col1\" class=\"data row3 col1\" >1.07e+04</td>\n",
       "                        <td id=\"T_845e892a_f7bf_11ec_8dec_00224824f0c7row3_col2\" class=\"data row3 col2\" >0.0841</td>\n",
       "                        <td id=\"T_845e892a_f7bf_11ec_8dec_00224824f0c7row3_col3\" class=\"data row3 col3\" >0.0854</td>\n",
       "            </tr>\n",
       "    </tbody></table>"
      ],
      "text/plain": [
       "<pandas.io.formats.style.Styler at 0x7ff0c513a0d0>"
      ]
     },
     "metadata": {},
     "output_type": "display_data"
    },
    {
     "name": "stdout",
     "output_type": "stream",
     "text": [
      "[\u001b[1mtardis.simulation.base\u001b[0m][\u001b[1;37mINFO\u001b[0m   ]  \n",
      "\t\n",
      "\tCurrent t_inner = 10647.277 K\n",
      "\tExpected t_inner for next iteration = 10638.875 K\n",
      " (\u001b[1mbase.py\u001b[0m:542)\n"
     ]
    },
    {
     "name": "stdout",
     "output_type": "stream",
     "text": [
      "[\u001b[1mtardis.simulation.base\u001b[0m][\u001b[1;37mINFO\u001b[0m   ]  \n",
      "\t\n",
      "\tStarting iteration 15 of 20 (\u001b[1mbase.py\u001b[0m:378)\n"
     ]
    },
    {
     "name": "stdout",
     "output_type": "stream",
     "text": [
      "[\u001b[1mtardis.simulation.base\u001b[0m][\u001b[1;37mINFO\u001b[0m   ]  \n",
      "\t\n",
      "\tLuminosity emitted   = 1.053e+43 erg / s\n",
      "\tLuminosity absorbed  = 3.417e+42 erg / s\n",
      "\tLuminosity requested = 1.059e+43 erg / s\n",
      " (\u001b[1mbase.py\u001b[0m:547)\n"
     ]
    },
    {
     "name": "stdout",
     "output_type": "stream",
     "text": [
      "[\u001b[1mtardis.simulation.base\u001b[0m][\u001b[1;37mINFO\u001b[0m   ]  \n",
      "\tIteration converged 3/4 consecutive times. (\u001b[1mbase.py\u001b[0m:259)\n"
     ]
    },
    {
     "name": "stdout",
     "output_type": "stream",
     "text": [
      "[\u001b[1mtardis.simulation.base\u001b[0m][\u001b[1;37mINFO\u001b[0m   ]  \n",
      "\t\n",
      "\tPlasma stratification: (\u001b[1mbase.py\u001b[0m:515)\n"
     ]
    },
    {
     "data": {
      "text/html": [
       "<style  type=\"text/css\" >\n",
       "</style><table id=\"T_84eeb3ba_f7bf_11ec_8dec_00224824f0c7\" ><thead>    <tr>        <th class=\"index_name level0\" >Shell No.</th>        <th class=\"col_heading level0 col0\" >t_rad</th>        <th class=\"col_heading level0 col1\" >next_t_rad</th>        <th class=\"col_heading level0 col2\" >w</th>        <th class=\"col_heading level0 col3\" >next_w</th>    </tr></thead><tbody>\n",
       "                <tr>\n",
       "                        <th id=\"T_84eeb3ba_f7bf_11ec_8dec_00224824f0c7level0_row0\" class=\"row_heading level0 row0\" >0</th>\n",
       "                        <td id=\"T_84eeb3ba_f7bf_11ec_8dec_00224824f0c7row0_col0\" class=\"data row0 col0\" >1.11e+04</td>\n",
       "                        <td id=\"T_84eeb3ba_f7bf_11ec_8dec_00224824f0c7row0_col1\" class=\"data row0 col1\" >1.1e+04</td>\n",
       "                        <td id=\"T_84eeb3ba_f7bf_11ec_8dec_00224824f0c7row0_col2\" class=\"data row0 col2\" >0.469</td>\n",
       "                        <td id=\"T_84eeb3ba_f7bf_11ec_8dec_00224824f0c7row0_col3\" class=\"data row0 col3\" >0.484</td>\n",
       "            </tr>\n",
       "            <tr>\n",
       "                        <th id=\"T_84eeb3ba_f7bf_11ec_8dec_00224824f0c7level0_row1\" class=\"row_heading level0 row1\" >5</th>\n",
       "                        <td id=\"T_84eeb3ba_f7bf_11ec_8dec_00224824f0c7row1_col0\" class=\"data row1 col0\" >1.13e+04</td>\n",
       "                        <td id=\"T_84eeb3ba_f7bf_11ec_8dec_00224824f0c7row1_col1\" class=\"data row1 col1\" >1.13e+04</td>\n",
       "                        <td id=\"T_84eeb3ba_f7bf_11ec_8dec_00224824f0c7row1_col2\" class=\"data row1 col2\" >0.182</td>\n",
       "                        <td id=\"T_84eeb3ba_f7bf_11ec_8dec_00224824f0c7row1_col3\" class=\"data row1 col3\" >0.181</td>\n",
       "            </tr>\n",
       "            <tr>\n",
       "                        <th id=\"T_84eeb3ba_f7bf_11ec_8dec_00224824f0c7level0_row2\" class=\"row_heading level0 row2\" >10</th>\n",
       "                        <td id=\"T_84eeb3ba_f7bf_11ec_8dec_00224824f0c7row2_col0\" class=\"data row2 col0\" >1.1e+04</td>\n",
       "                        <td id=\"T_84eeb3ba_f7bf_11ec_8dec_00224824f0c7row2_col1\" class=\"data row2 col1\" >1.1e+04</td>\n",
       "                        <td id=\"T_84eeb3ba_f7bf_11ec_8dec_00224824f0c7row2_col2\" class=\"data row2 col2\" >0.113</td>\n",
       "                        <td id=\"T_84eeb3ba_f7bf_11ec_8dec_00224824f0c7row2_col3\" class=\"data row2 col3\" >0.113</td>\n",
       "            </tr>\n",
       "            <tr>\n",
       "                        <th id=\"T_84eeb3ba_f7bf_11ec_8dec_00224824f0c7level0_row3\" class=\"row_heading level0 row3\" >15</th>\n",
       "                        <td id=\"T_84eeb3ba_f7bf_11ec_8dec_00224824f0c7row3_col0\" class=\"data row3 col0\" >1.07e+04</td>\n",
       "                        <td id=\"T_84eeb3ba_f7bf_11ec_8dec_00224824f0c7row3_col1\" class=\"data row3 col1\" >1.07e+04</td>\n",
       "                        <td id=\"T_84eeb3ba_f7bf_11ec_8dec_00224824f0c7row3_col2\" class=\"data row3 col2\" >0.0854</td>\n",
       "                        <td id=\"T_84eeb3ba_f7bf_11ec_8dec_00224824f0c7row3_col3\" class=\"data row3 col3\" >0.0858</td>\n",
       "            </tr>\n",
       "    </tbody></table>"
      ],
      "text/plain": [
       "<pandas.io.formats.style.Styler at 0x7ff0c550ecd0>"
      ]
     },
     "metadata": {},
     "output_type": "display_data"
    },
    {
     "name": "stdout",
     "output_type": "stream",
     "text": [
      "[\u001b[1mtardis.simulation.base\u001b[0m][\u001b[1;37mINFO\u001b[0m   ]  \n",
      "\t\n",
      "\tCurrent t_inner = 10638.875 K\n",
      "\tExpected t_inner for next iteration = 10655.125 K\n",
      " (\u001b[1mbase.py\u001b[0m:542)\n"
     ]
    },
    {
     "name": "stdout",
     "output_type": "stream",
     "text": [
      "[\u001b[1mtardis.simulation.base\u001b[0m][\u001b[1;37mINFO\u001b[0m   ]  \n",
      "\t\n",
      "\tStarting iteration 16 of 20 (\u001b[1mbase.py\u001b[0m:378)\n"
     ]
    },
    {
     "name": "stdout",
     "output_type": "stream",
     "text": [
      "[\u001b[1mtardis.simulation.base\u001b[0m][\u001b[1;37mINFO\u001b[0m   ]  \n",
      "\t\n",
      "\tLuminosity emitted   = 1.059e+43 erg / s\n",
      "\tLuminosity absorbed  = 3.445e+42 erg / s\n",
      "\tLuminosity requested = 1.059e+43 erg / s\n",
      " (\u001b[1mbase.py\u001b[0m:547)\n"
     ]
    },
    {
     "name": "stdout",
     "output_type": "stream",
     "text": [
      "[\u001b[1mtardis.simulation.base\u001b[0m][\u001b[1;37mINFO\u001b[0m   ]  \n",
      "\tIteration converged 4/4 consecutive times. (\u001b[1mbase.py\u001b[0m:259)\n"
     ]
    },
    {
     "name": "stdout",
     "output_type": "stream",
     "text": [
      "[\u001b[1mtardis.simulation.base\u001b[0m][\u001b[1;37mINFO\u001b[0m   ]  \n",
      "\t\n",
      "\tPlasma stratification: (\u001b[1mbase.py\u001b[0m:515)\n"
     ]
    },
    {
     "data": {
      "text/html": [
       "<style  type=\"text/css\" >\n",
       "</style><table id=\"T_857d887e_f7bf_11ec_8dec_00224824f0c7\" ><thead>    <tr>        <th class=\"index_name level0\" >Shell No.</th>        <th class=\"col_heading level0 col0\" >t_rad</th>        <th class=\"col_heading level0 col1\" >next_t_rad</th>        <th class=\"col_heading level0 col2\" >w</th>        <th class=\"col_heading level0 col3\" >next_w</th>    </tr></thead><tbody>\n",
       "                <tr>\n",
       "                        <th id=\"T_857d887e_f7bf_11ec_8dec_00224824f0c7level0_row0\" class=\"row_heading level0 row0\" >0</th>\n",
       "                        <td id=\"T_857d887e_f7bf_11ec_8dec_00224824f0c7row0_col0\" class=\"data row0 col0\" >1.1e+04</td>\n",
       "                        <td id=\"T_857d887e_f7bf_11ec_8dec_00224824f0c7row0_col1\" class=\"data row0 col1\" >1.1e+04</td>\n",
       "                        <td id=\"T_857d887e_f7bf_11ec_8dec_00224824f0c7row0_col2\" class=\"data row0 col2\" >0.484</td>\n",
       "                        <td id=\"T_857d887e_f7bf_11ec_8dec_00224824f0c7row0_col3\" class=\"data row0 col3\" >0.472</td>\n",
       "            </tr>\n",
       "            <tr>\n",
       "                        <th id=\"T_857d887e_f7bf_11ec_8dec_00224824f0c7level0_row1\" class=\"row_heading level0 row1\" >5</th>\n",
       "                        <td id=\"T_857d887e_f7bf_11ec_8dec_00224824f0c7row1_col0\" class=\"data row1 col0\" >1.13e+04</td>\n",
       "                        <td id=\"T_857d887e_f7bf_11ec_8dec_00224824f0c7row1_col1\" class=\"data row1 col1\" >1.13e+04</td>\n",
       "                        <td id=\"T_857d887e_f7bf_11ec_8dec_00224824f0c7row1_col2\" class=\"data row1 col2\" >0.181</td>\n",
       "                        <td id=\"T_857d887e_f7bf_11ec_8dec_00224824f0c7row1_col3\" class=\"data row1 col3\" >0.177</td>\n",
       "            </tr>\n",
       "            <tr>\n",
       "                        <th id=\"T_857d887e_f7bf_11ec_8dec_00224824f0c7level0_row2\" class=\"row_heading level0 row2\" >10</th>\n",
       "                        <td id=\"T_857d887e_f7bf_11ec_8dec_00224824f0c7row2_col0\" class=\"data row2 col0\" >1.1e+04</td>\n",
       "                        <td id=\"T_857d887e_f7bf_11ec_8dec_00224824f0c7row2_col1\" class=\"data row2 col1\" >1.1e+04</td>\n",
       "                        <td id=\"T_857d887e_f7bf_11ec_8dec_00224824f0c7row2_col2\" class=\"data row2 col2\" >0.113</td>\n",
       "                        <td id=\"T_857d887e_f7bf_11ec_8dec_00224824f0c7row2_col3\" class=\"data row2 col3\" >0.113</td>\n",
       "            </tr>\n",
       "            <tr>\n",
       "                        <th id=\"T_857d887e_f7bf_11ec_8dec_00224824f0c7level0_row3\" class=\"row_heading level0 row3\" >15</th>\n",
       "                        <td id=\"T_857d887e_f7bf_11ec_8dec_00224824f0c7row3_col0\" class=\"data row3 col0\" >1.07e+04</td>\n",
       "                        <td id=\"T_857d887e_f7bf_11ec_8dec_00224824f0c7row3_col1\" class=\"data row3 col1\" >1.06e+04</td>\n",
       "                        <td id=\"T_857d887e_f7bf_11ec_8dec_00224824f0c7row3_col2\" class=\"data row3 col2\" >0.0858</td>\n",
       "                        <td id=\"T_857d887e_f7bf_11ec_8dec_00224824f0c7row3_col3\" class=\"data row3 col3\" >0.0858</td>\n",
       "            </tr>\n",
       "    </tbody></table>"
      ],
      "text/plain": [
       "<pandas.io.formats.style.Styler at 0x7ff0c5796550>"
      ]
     },
     "metadata": {},
     "output_type": "display_data"
    },
    {
     "name": "stdout",
     "output_type": "stream",
     "text": [
      "[\u001b[1mtardis.simulation.base\u001b[0m][\u001b[1;37mINFO\u001b[0m   ]  \n",
      "\t\n",
      "\tCurrent t_inner = 10655.125 K\n",
      "\tExpected t_inner for next iteration = 10655.561 K\n",
      " (\u001b[1mbase.py\u001b[0m:542)\n"
     ]
    },
    {
     "name": "stdout",
     "output_type": "stream",
     "text": [
      "[\u001b[1mtardis.simulation.base\u001b[0m][\u001b[1;37mINFO\u001b[0m   ]  \n",
      "\t\n",
      "\tStarting iteration 17 of 20 (\u001b[1mbase.py\u001b[0m:378)\n"
     ]
    },
    {
     "name": "stdout",
     "output_type": "stream",
     "text": [
      "[\u001b[1mtardis.simulation.base\u001b[0m][\u001b[1;37mINFO\u001b[0m   ]  \n",
      "\t\n",
      "\tLuminosity emitted   = 1.067e+43 erg / s\n",
      "\tLuminosity absorbed  = 3.372e+42 erg / s\n",
      "\tLuminosity requested = 1.059e+43 erg / s\n",
      " (\u001b[1mbase.py\u001b[0m:547)\n"
     ]
    },
    {
     "name": "stdout",
     "output_type": "stream",
     "text": [
      "[\u001b[1mtardis.simulation.base\u001b[0m][\u001b[1;37mINFO\u001b[0m   ]  \n",
      "\t\n",
      "\tPlasma stratification: (\u001b[1mbase.py\u001b[0m:515)\n"
     ]
    },
    {
     "data": {
      "text/html": [
       "<style  type=\"text/css\" >\n",
       "</style><table id=\"T_8609d3ba_f7bf_11ec_8dec_00224824f0c7\" ><thead>    <tr>        <th class=\"index_name level0\" >Shell No.</th>        <th class=\"col_heading level0 col0\" >t_rad</th>        <th class=\"col_heading level0 col1\" >next_t_rad</th>        <th class=\"col_heading level0 col2\" >w</th>        <th class=\"col_heading level0 col3\" >next_w</th>    </tr></thead><tbody>\n",
       "                <tr>\n",
       "                        <th id=\"T_8609d3ba_f7bf_11ec_8dec_00224824f0c7level0_row0\" class=\"row_heading level0 row0\" >0</th>\n",
       "                        <td id=\"T_8609d3ba_f7bf_11ec_8dec_00224824f0c7row0_col0\" class=\"data row0 col0\" >1.1e+04</td>\n",
       "                        <td id=\"T_8609d3ba_f7bf_11ec_8dec_00224824f0c7row0_col1\" class=\"data row0 col1\" >1.11e+04</td>\n",
       "                        <td id=\"T_8609d3ba_f7bf_11ec_8dec_00224824f0c7row0_col2\" class=\"data row0 col2\" >0.472</td>\n",
       "                        <td id=\"T_8609d3ba_f7bf_11ec_8dec_00224824f0c7row0_col3\" class=\"data row0 col3\" >0.468</td>\n",
       "            </tr>\n",
       "            <tr>\n",
       "                        <th id=\"T_8609d3ba_f7bf_11ec_8dec_00224824f0c7level0_row1\" class=\"row_heading level0 row1\" >5</th>\n",
       "                        <td id=\"T_8609d3ba_f7bf_11ec_8dec_00224824f0c7row1_col0\" class=\"data row1 col0\" >1.13e+04</td>\n",
       "                        <td id=\"T_8609d3ba_f7bf_11ec_8dec_00224824f0c7row1_col1\" class=\"data row1 col1\" >1.14e+04</td>\n",
       "                        <td id=\"T_8609d3ba_f7bf_11ec_8dec_00224824f0c7row1_col2\" class=\"data row1 col2\" >0.177</td>\n",
       "                        <td id=\"T_8609d3ba_f7bf_11ec_8dec_00224824f0c7row1_col3\" class=\"data row1 col3\" >0.175</td>\n",
       "            </tr>\n",
       "            <tr>\n",
       "                        <th id=\"T_8609d3ba_f7bf_11ec_8dec_00224824f0c7level0_row2\" class=\"row_heading level0 row2\" >10</th>\n",
       "                        <td id=\"T_8609d3ba_f7bf_11ec_8dec_00224824f0c7row2_col0\" class=\"data row2 col0\" >1.1e+04</td>\n",
       "                        <td id=\"T_8609d3ba_f7bf_11ec_8dec_00224824f0c7row2_col1\" class=\"data row2 col1\" >1.11e+04</td>\n",
       "                        <td id=\"T_8609d3ba_f7bf_11ec_8dec_00224824f0c7row2_col2\" class=\"data row2 col2\" >0.113</td>\n",
       "                        <td id=\"T_8609d3ba_f7bf_11ec_8dec_00224824f0c7row2_col3\" class=\"data row2 col3\" >0.11</td>\n",
       "            </tr>\n",
       "            <tr>\n",
       "                        <th id=\"T_8609d3ba_f7bf_11ec_8dec_00224824f0c7level0_row3\" class=\"row_heading level0 row3\" >15</th>\n",
       "                        <td id=\"T_8609d3ba_f7bf_11ec_8dec_00224824f0c7row3_col0\" class=\"data row3 col0\" >1.06e+04</td>\n",
       "                        <td id=\"T_8609d3ba_f7bf_11ec_8dec_00224824f0c7row3_col1\" class=\"data row3 col1\" >1.08e+04</td>\n",
       "                        <td id=\"T_8609d3ba_f7bf_11ec_8dec_00224824f0c7row3_col2\" class=\"data row3 col2\" >0.0858</td>\n",
       "                        <td id=\"T_8609d3ba_f7bf_11ec_8dec_00224824f0c7row3_col3\" class=\"data row3 col3\" >0.0816</td>\n",
       "            </tr>\n",
       "    </tbody></table>"
      ],
      "text/plain": [
       "<pandas.io.formats.style.Styler at 0x7ff0c5313e20>"
      ]
     },
     "metadata": {},
     "output_type": "display_data"
    },
    {
     "name": "stdout",
     "output_type": "stream",
     "text": [
      "[\u001b[1mtardis.simulation.base\u001b[0m][\u001b[1;37mINFO\u001b[0m   ]  \n",
      "\t\n",
      "\tCurrent t_inner = 10655.561 K\n",
      "\tExpected t_inner for next iteration = 10636.536 K\n",
      " (\u001b[1mbase.py\u001b[0m:542)\n"
     ]
    },
    {
     "name": "stdout",
     "output_type": "stream",
     "text": [
      "[\u001b[1mtardis.simulation.base\u001b[0m][\u001b[1;37mINFO\u001b[0m   ]  \n",
      "\t\n",
      "\tStarting iteration 18 of 20 (\u001b[1mbase.py\u001b[0m:378)\n"
     ]
    },
    {
     "name": "stdout",
     "output_type": "stream",
     "text": [
      "[\u001b[1mtardis.simulation.base\u001b[0m][\u001b[1;37mINFO\u001b[0m   ]  \n",
      "\t\n",
      "\tLuminosity emitted   = 1.057e+43 erg / s\n",
      "\tLuminosity absorbed  = 3.365e+42 erg / s\n",
      "\tLuminosity requested = 1.059e+43 erg / s\n",
      " (\u001b[1mbase.py\u001b[0m:547)\n"
     ]
    },
    {
     "name": "stdout",
     "output_type": "stream",
     "text": [
      "[\u001b[1mtardis.simulation.base\u001b[0m][\u001b[1;37mINFO\u001b[0m   ]  \n",
      "\tIteration converged 1/4 consecutive times. (\u001b[1mbase.py\u001b[0m:259)\n"
     ]
    },
    {
     "name": "stdout",
     "output_type": "stream",
     "text": [
      "[\u001b[1mtardis.simulation.base\u001b[0m][\u001b[1;37mINFO\u001b[0m   ]  \n",
      "\t\n",
      "\tPlasma stratification: (\u001b[1mbase.py\u001b[0m:515)\n"
     ]
    },
    {
     "data": {
      "text/html": [
       "<style  type=\"text/css\" >\n",
       "</style><table id=\"T_869c44c0_f7bf_11ec_8dec_00224824f0c7\" ><thead>    <tr>        <th class=\"index_name level0\" >Shell No.</th>        <th class=\"col_heading level0 col0\" >t_rad</th>        <th class=\"col_heading level0 col1\" >next_t_rad</th>        <th class=\"col_heading level0 col2\" >w</th>        <th class=\"col_heading level0 col3\" >next_w</th>    </tr></thead><tbody>\n",
       "                <tr>\n",
       "                        <th id=\"T_869c44c0_f7bf_11ec_8dec_00224824f0c7level0_row0\" class=\"row_heading level0 row0\" >0</th>\n",
       "                        <td id=\"T_869c44c0_f7bf_11ec_8dec_00224824f0c7row0_col0\" class=\"data row0 col0\" >1.11e+04</td>\n",
       "                        <td id=\"T_869c44c0_f7bf_11ec_8dec_00224824f0c7row0_col1\" class=\"data row0 col1\" >1.11e+04</td>\n",
       "                        <td id=\"T_869c44c0_f7bf_11ec_8dec_00224824f0c7row0_col2\" class=\"data row0 col2\" >0.468</td>\n",
       "                        <td id=\"T_869c44c0_f7bf_11ec_8dec_00224824f0c7row0_col3\" class=\"data row0 col3\" >0.464</td>\n",
       "            </tr>\n",
       "            <tr>\n",
       "                        <th id=\"T_869c44c0_f7bf_11ec_8dec_00224824f0c7level0_row1\" class=\"row_heading level0 row1\" >5</th>\n",
       "                        <td id=\"T_869c44c0_f7bf_11ec_8dec_00224824f0c7row1_col0\" class=\"data row1 col0\" >1.14e+04</td>\n",
       "                        <td id=\"T_869c44c0_f7bf_11ec_8dec_00224824f0c7row1_col1\" class=\"data row1 col1\" >1.13e+04</td>\n",
       "                        <td id=\"T_869c44c0_f7bf_11ec_8dec_00224824f0c7row1_col2\" class=\"data row1 col2\" >0.175</td>\n",
       "                        <td id=\"T_869c44c0_f7bf_11ec_8dec_00224824f0c7row1_col3\" class=\"data row1 col3\" >0.177</td>\n",
       "            </tr>\n",
       "            <tr>\n",
       "                        <th id=\"T_869c44c0_f7bf_11ec_8dec_00224824f0c7level0_row2\" class=\"row_heading level0 row2\" >10</th>\n",
       "                        <td id=\"T_869c44c0_f7bf_11ec_8dec_00224824f0c7row2_col0\" class=\"data row2 col0\" >1.11e+04</td>\n",
       "                        <td id=\"T_869c44c0_f7bf_11ec_8dec_00224824f0c7row2_col1\" class=\"data row2 col1\" >1.1e+04</td>\n",
       "                        <td id=\"T_869c44c0_f7bf_11ec_8dec_00224824f0c7row2_col2\" class=\"data row2 col2\" >0.11</td>\n",
       "                        <td id=\"T_869c44c0_f7bf_11ec_8dec_00224824f0c7row2_col3\" class=\"data row2 col3\" >0.113</td>\n",
       "            </tr>\n",
       "            <tr>\n",
       "                        <th id=\"T_869c44c0_f7bf_11ec_8dec_00224824f0c7level0_row3\" class=\"row_heading level0 row3\" >15</th>\n",
       "                        <td id=\"T_869c44c0_f7bf_11ec_8dec_00224824f0c7row3_col0\" class=\"data row3 col0\" >1.08e+04</td>\n",
       "                        <td id=\"T_869c44c0_f7bf_11ec_8dec_00224824f0c7row3_col1\" class=\"data row3 col1\" >1.07e+04</td>\n",
       "                        <td id=\"T_869c44c0_f7bf_11ec_8dec_00224824f0c7row3_col2\" class=\"data row3 col2\" >0.0816</td>\n",
       "                        <td id=\"T_869c44c0_f7bf_11ec_8dec_00224824f0c7row3_col3\" class=\"data row3 col3\" >0.0848</td>\n",
       "            </tr>\n",
       "    </tbody></table>"
      ],
      "text/plain": [
       "<pandas.io.formats.style.Styler at 0x7ff0c5110100>"
      ]
     },
     "metadata": {},
     "output_type": "display_data"
    },
    {
     "name": "stdout",
     "output_type": "stream",
     "text": [
      "[\u001b[1mtardis.simulation.base\u001b[0m][\u001b[1;37mINFO\u001b[0m   ]  \n",
      "\t\n",
      "\tCurrent t_inner = 10636.536 K\n",
      "\tExpected t_inner for next iteration = 10641.692 K\n",
      " (\u001b[1mbase.py\u001b[0m:542)\n"
     ]
    },
    {
     "name": "stdout",
     "output_type": "stream",
     "text": [
      "[\u001b[1mtardis.simulation.base\u001b[0m][\u001b[1;37mINFO\u001b[0m   ]  \n",
      "\t\n",
      "\tStarting iteration 19 of 20 (\u001b[1mbase.py\u001b[0m:378)\n"
     ]
    },
    {
     "name": "stdout",
     "output_type": "stream",
     "text": [
      "[\u001b[1mtardis.simulation.base\u001b[0m][\u001b[1;37mINFO\u001b[0m   ]  \n",
      "\t\n",
      "\tLuminosity emitted   = 1.056e+43 erg / s\n",
      "\tLuminosity absorbed  = 3.405e+42 erg / s\n",
      "\tLuminosity requested = 1.059e+43 erg / s\n",
      " (\u001b[1mbase.py\u001b[0m:547)\n"
     ]
    },
    {
     "name": "stdout",
     "output_type": "stream",
     "text": [
      "[\u001b[1mtardis.simulation.base\u001b[0m][\u001b[1;37mINFO\u001b[0m   ]  \n",
      "\tIteration converged 2/4 consecutive times. (\u001b[1mbase.py\u001b[0m:259)\n"
     ]
    },
    {
     "name": "stdout",
     "output_type": "stream",
     "text": [
      "[\u001b[1mtardis.simulation.base\u001b[0m][\u001b[1;37mINFO\u001b[0m   ]  \n",
      "\t\n",
      "\tPlasma stratification: (\u001b[1mbase.py\u001b[0m:515)\n"
     ]
    },
    {
     "data": {
      "text/html": [
       "<style  type=\"text/css\" >\n",
       "</style><table id=\"T_872d0d3e_f7bf_11ec_8dec_00224824f0c7\" ><thead>    <tr>        <th class=\"index_name level0\" >Shell No.</th>        <th class=\"col_heading level0 col0\" >t_rad</th>        <th class=\"col_heading level0 col1\" >next_t_rad</th>        <th class=\"col_heading level0 col2\" >w</th>        <th class=\"col_heading level0 col3\" >next_w</th>    </tr></thead><tbody>\n",
       "                <tr>\n",
       "                        <th id=\"T_872d0d3e_f7bf_11ec_8dec_00224824f0c7level0_row0\" class=\"row_heading level0 row0\" >0</th>\n",
       "                        <td id=\"T_872d0d3e_f7bf_11ec_8dec_00224824f0c7row0_col0\" class=\"data row0 col0\" >1.11e+04</td>\n",
       "                        <td id=\"T_872d0d3e_f7bf_11ec_8dec_00224824f0c7row0_col1\" class=\"data row0 col1\" >1.11e+04</td>\n",
       "                        <td id=\"T_872d0d3e_f7bf_11ec_8dec_00224824f0c7row0_col2\" class=\"data row0 col2\" >0.464</td>\n",
       "                        <td id=\"T_872d0d3e_f7bf_11ec_8dec_00224824f0c7row0_col3\" class=\"data row0 col3\" >0.466</td>\n",
       "            </tr>\n",
       "            <tr>\n",
       "                        <th id=\"T_872d0d3e_f7bf_11ec_8dec_00224824f0c7level0_row1\" class=\"row_heading level0 row1\" >5</th>\n",
       "                        <td id=\"T_872d0d3e_f7bf_11ec_8dec_00224824f0c7row1_col0\" class=\"data row1 col0\" >1.13e+04</td>\n",
       "                        <td id=\"T_872d0d3e_f7bf_11ec_8dec_00224824f0c7row1_col1\" class=\"data row1 col1\" >1.13e+04</td>\n",
       "                        <td id=\"T_872d0d3e_f7bf_11ec_8dec_00224824f0c7row1_col2\" class=\"data row1 col2\" >0.177</td>\n",
       "                        <td id=\"T_872d0d3e_f7bf_11ec_8dec_00224824f0c7row1_col3\" class=\"data row1 col3\" >0.177</td>\n",
       "            </tr>\n",
       "            <tr>\n",
       "                        <th id=\"T_872d0d3e_f7bf_11ec_8dec_00224824f0c7level0_row2\" class=\"row_heading level0 row2\" >10</th>\n",
       "                        <td id=\"T_872d0d3e_f7bf_11ec_8dec_00224824f0c7row2_col0\" class=\"data row2 col0\" >1.1e+04</td>\n",
       "                        <td id=\"T_872d0d3e_f7bf_11ec_8dec_00224824f0c7row2_col1\" class=\"data row2 col1\" >1.11e+04</td>\n",
       "                        <td id=\"T_872d0d3e_f7bf_11ec_8dec_00224824f0c7row2_col2\" class=\"data row2 col2\" >0.113</td>\n",
       "                        <td id=\"T_872d0d3e_f7bf_11ec_8dec_00224824f0c7row2_col3\" class=\"data row2 col3\" >0.111</td>\n",
       "            </tr>\n",
       "            <tr>\n",
       "                        <th id=\"T_872d0d3e_f7bf_11ec_8dec_00224824f0c7level0_row3\" class=\"row_heading level0 row3\" >15</th>\n",
       "                        <td id=\"T_872d0d3e_f7bf_11ec_8dec_00224824f0c7row3_col0\" class=\"data row3 col0\" >1.07e+04</td>\n",
       "                        <td id=\"T_872d0d3e_f7bf_11ec_8dec_00224824f0c7row3_col1\" class=\"data row3 col1\" >1.07e+04</td>\n",
       "                        <td id=\"T_872d0d3e_f7bf_11ec_8dec_00224824f0c7row3_col2\" class=\"data row3 col2\" >0.0848</td>\n",
       "                        <td id=\"T_872d0d3e_f7bf_11ec_8dec_00224824f0c7row3_col3\" class=\"data row3 col3\" >0.0853</td>\n",
       "            </tr>\n",
       "    </tbody></table>"
      ],
      "text/plain": [
       "<pandas.io.formats.style.Styler at 0x7ff0c56e2130>"
      ]
     },
     "metadata": {},
     "output_type": "display_data"
    },
    {
     "name": "stdout",
     "output_type": "stream",
     "text": [
      "[\u001b[1mtardis.simulation.base\u001b[0m][\u001b[1;37mINFO\u001b[0m   ]  \n",
      "\t\n",
      "\tCurrent t_inner = 10641.692 K\n",
      "\tExpected t_inner for next iteration = 10650.463 K\n",
      " (\u001b[1mbase.py\u001b[0m:542)\n"
     ]
    },
    {
     "name": "stdout",
     "output_type": "stream",
     "text": [
      "[\u001b[1mtardis.simulation.base\u001b[0m][\u001b[1;37mINFO\u001b[0m   ]  \n",
      "\t\n",
      "\tStarting iteration 20 of 20 (\u001b[1mbase.py\u001b[0m:378)\n"
     ]
    },
    {
     "name": "stdout",
     "output_type": "stream",
     "text": [
      "[\u001b[1mtardis.simulation.base\u001b[0m][\u001b[1;37mINFO\u001b[0m   ]  \n",
      "\t\n",
      "\tLuminosity emitted   = 1.061e+43 erg / s\n",
      "\tLuminosity absorbed  = 3.401e+42 erg / s\n",
      "\tLuminosity requested = 1.059e+43 erg / s\n",
      " (\u001b[1mbase.py\u001b[0m:547)\n"
     ]
    },
    {
     "name": "stdout",
     "output_type": "stream",
     "text": [
      "[\u001b[1mtardis.simulation.base\u001b[0m][\u001b[1;37mINFO\u001b[0m   ]  \n",
      "\t\n",
      "\tSimulation finished in 20 iterations \n",
      "\tSimulation took 54.93 s\n",
      " (\u001b[1mbase.py\u001b[0m:468)\n"
     ]
    }
   ],
   "source": [
    "# Running the simulation from the config\n",
    "\n",
    "sim = run_tardis(config, show_convergence_plots=False, show_progress_bars=False)"
   ]
  },
  {
   "cell_type": "markdown",
   "id": "532bfafc",
   "metadata": {},
   "source": [
    "Now, the `tracked` properties can be accessed via the `rpacket_tracker` attribute of the `sim.runner` object. "
   ]
  },
  {
   "cell_type": "code",
   "execution_count": 8,
   "id": "f8b3424f",
   "metadata": {
    "execution": {
     "iopub.execute_input": "2022-06-29T15:24:20.423525Z",
     "iopub.status.busy": "2022-06-29T15:24:20.423242Z",
     "iopub.status.idle": "2022-06-29T15:24:20.428079Z",
     "shell.execute_reply": "2022-06-29T15:24:20.427394Z"
    }
   },
   "outputs": [
    {
     "data": {
      "text/plain": [
       "numba.typed.typedlist.List"
      ]
     },
     "execution_count": 8,
     "metadata": {},
     "output_type": "execute_result"
    }
   ],
   "source": [
    "type(sim.runner.rpacket_tracker)"
   ]
  },
  {
   "cell_type": "markdown",
   "id": "4771d92a",
   "metadata": {},
   "source": [
    "It can be seen from the above code, that the `sim.runner.rpacket_tracker` is an instance of the `List` specifically *Numba Typed List*. The `RPacketCollection` class has the following structure for the properties : {More information in the **TARDIS API** for `RPacketCollection` class}"
   ]
  },
  {
   "cell_type": "markdown",
   "id": "ce587807",
   "metadata": {},
   "source": [
    "```python\n",
    "# Basic structure for the RPacketCollection Class\n",
    "class RPacketCollection:\n",
    "   # Properties\n",
    "    index\n",
    "    seed\n",
    "    status\n",
    "    r\n",
    "    nu\n",
    "    mu\n",
    "    energy\n",
    "    shell_id\n",
    "```"
   ]
  },
  {
   "cell_type": "code",
   "execution_count": 9,
   "id": "a3ea2f54",
   "metadata": {
    "execution": {
     "iopub.execute_input": "2022-06-29T15:24:20.432104Z",
     "iopub.status.busy": "2022-06-29T15:24:20.431841Z",
     "iopub.status.idle": "2022-06-29T15:24:20.484906Z",
     "shell.execute_reply": "2022-06-29T15:24:20.483649Z"
    }
   },
   "outputs": [
    {
     "data": {
      "text/plain": [
       "100000"
      ]
     },
     "execution_count": 9,
     "metadata": {},
     "output_type": "execute_result"
    }
   ],
   "source": [
    "len(sim.runner.rpacket_tracker)"
   ]
  },
  {
   "cell_type": "markdown",
   "id": "411f2ef9",
   "metadata": {},
   "source": [
    "To access these different properties, we may consider the following examples for the `rpacket_tracker`:\n",
    "<br>In this Example, we are trying to access the properties of the packet at index `10`.<br>In a similar way, we can check for any property for any packet in the range of packets for the last iteration."
   ]
  },
  {
   "cell_type": "markdown",
   "id": "a4772b00",
   "metadata": {},
   "source": [
    "- Accessing the `index` property for the packet {`10`}:"
   ]
  },
  {
   "cell_type": "code",
   "execution_count": 10,
   "id": "de7b8877",
   "metadata": {
    "execution": {
     "iopub.execute_input": "2022-06-29T15:24:20.490347Z",
     "iopub.status.busy": "2022-06-29T15:24:20.490034Z",
     "iopub.status.idle": "2022-06-29T15:24:21.055440Z",
     "shell.execute_reply": "2022-06-29T15:24:21.054494Z"
    }
   },
   "outputs": [
    {
     "data": {
      "text/plain": [
       "10"
      ]
     },
     "execution_count": 10,
     "metadata": {},
     "output_type": "execute_result"
    }
   ],
   "source": [
    "sim.runner.rpacket_tracker[10].index"
   ]
  },
  {
   "cell_type": "markdown",
   "id": "d81fbbf7",
   "metadata": {},
   "source": [
    "- Accessing the `seed` property for the packet {`10`}:"
   ]
  },
  {
   "cell_type": "code",
   "execution_count": 11,
   "id": "39e2dbd2",
   "metadata": {
    "execution": {
     "iopub.execute_input": "2022-06-29T15:24:21.059743Z",
     "iopub.status.busy": "2022-06-29T15:24:21.059457Z",
     "iopub.status.idle": "2022-06-29T15:24:21.064494Z",
     "shell.execute_reply": "2022-06-29T15:24:21.063771Z"
    }
   },
   "outputs": [
    {
     "data": {
      "text/plain": [
       "2729103521"
      ]
     },
     "execution_count": 11,
     "metadata": {},
     "output_type": "execute_result"
    }
   ],
   "source": [
    "sim.runner.rpacket_tracker[10].seed"
   ]
  },
  {
   "cell_type": "markdown",
   "id": "7afe2110",
   "metadata": {},
   "source": [
    "- Accessing the `status` property for the packet {`10`}:"
   ]
  },
  {
   "cell_type": "code",
   "execution_count": 12,
   "id": "e82427ea",
   "metadata": {
    "execution": {
     "iopub.execute_input": "2022-06-29T15:24:21.068264Z",
     "iopub.status.busy": "2022-06-29T15:24:21.067862Z",
     "iopub.status.idle": "2022-06-29T15:24:21.072725Z",
     "shell.execute_reply": "2022-06-29T15:24:21.072167Z"
    }
   },
   "outputs": [
    {
     "data": {
      "text/plain": [
       "array([0, 0, 0, 0, 0, 0, 0, 0, 0, 0, 0, 0, 0, 0, 0, 0, 0, 0, 0, 0, 0, 0,\n",
       "       0, 0, 0, 0, 0, 0, 0, 0, 0, 0, 0, 0, 0, 0, 0, 0, 0, 0, 0, 0, 0, 0,\n",
       "       0, 0, 0, 0, 0, 0, 0, 0, 1])"
      ]
     },
     "execution_count": 12,
     "metadata": {},
     "output_type": "execute_result"
    }
   ],
   "source": [
    "sim.runner.rpacket_tracker[10].status"
   ]
  },
  {
   "cell_type": "markdown",
   "id": "ea308a55",
   "metadata": {},
   "source": [
    "Thus, all other properties {`r`, `nu`, `mu`, `energy`, `shell_id`} can be accessed accordingly."
   ]
  },
  {
   "cell_type": "markdown",
   "id": "c83dd906",
   "metadata": {},
   "source": [
    "We can also see the total number of interactions of index `10` packet under went, with the following example:"
   ]
  },
  {
   "cell_type": "code",
   "execution_count": 13,
   "id": "090b1517",
   "metadata": {
    "execution": {
     "iopub.execute_input": "2022-06-29T15:24:21.076009Z",
     "iopub.status.busy": "2022-06-29T15:24:21.075618Z",
     "iopub.status.idle": "2022-06-29T15:24:21.080412Z",
     "shell.execute_reply": "2022-06-29T15:24:21.079713Z"
    }
   },
   "outputs": [
    {
     "data": {
      "text/plain": [
       "53"
      ]
     },
     "execution_count": 13,
     "metadata": {},
     "output_type": "execute_result"
    }
   ],
   "source": [
    "len(sim.runner.rpacket_tracker[10].shell_id)"
   ]
  },
  {
   "cell_type": "markdown",
   "id": "9136fba1",
   "metadata": {},
   "source": [
    "<div class=\"alert alert-warning\">\n",
    "\n",
    "Warning\n",
    "\n",
    "If we  try to access `sim.runner.rpacket_tracker` property when we have the `track_rpacket` property in the `tracking` subsection of `montecarlo` config, turned off as follows `config[\"montecarlo\"][\"tracking\"][\"track_rpacket\"] = False`, it will return `None`.  Error will be raised if we try to access the properties i.e. `seed`, `index`, etc.\n",
    "</div>"
   ]
  },
  {
   "cell_type": "markdown",
   "id": "afa3c7f4",
   "metadata": {},
   "source": [
    "<div class=\"alert alert-info\">\n",
    "\n",
    "Note\n",
    "    \n",
    "When we initialise the `RPacketCollection()` class, the properties arrays {`index`, `seed`, `status`, etc} are allocated certain length based on the `initial_array_length` parameter that can be set via the `initial_array_length` property under `montecarlo -> tracking` section of the configuration. The default size of the array is `10`. This variable is important as the number of interactions a packet may have is variable, thus we need to allocate space dynamically. This variable is used to compute the size and expand the array such that the properties are able to hold these values for the packet interaction. Higher number, allocates more space initially leading to lesser times the arrays expands and vice versa. It can be set in the following manner `config[\"montecarlo\"][\"tracking\"][\"initial_array_length\"] = {value}`.\n",
    "</div>"
   ]
  }
 ],
 "metadata": {
  "kernelspec": {
   "display_name": "Python 3 (ipykernel)",
   "language": "python",
   "name": "python3"
  },
  "language_info": {
   "codemirror_mode": {
    "name": "ipython",
    "version": 3
   },
   "file_extension": ".py",
   "mimetype": "text/x-python",
   "name": "python",
   "nbconvert_exporter": "python",
   "pygments_lexer": "ipython3",
   "version": "3.8.13"
  },
  "widgets": {
   "application/vnd.jupyter.widget-state+json": {
    "state": {
     "0020f9ce23b144f3abf336bd388a9f57": {
      "model_module": "@jupyter-widgets/controls",
      "model_module_version": "1.5.0",
      "model_name": "DescriptionStyleModel",
      "state": {
       "_model_module": "@jupyter-widgets/controls",
       "_model_module_version": "1.5.0",
       "_model_name": "DescriptionStyleModel",
       "_view_count": null,
       "_view_module": "@jupyter-widgets/base",
       "_view_module_version": "1.2.0",
       "_view_name": "StyleView",
       "description_width": ""
      }
     },
     "08ca236a04e94217a128a32173e34f7c": {
      "model_module": "@jupyter-widgets/controls",
      "model_module_version": "1.5.0",
      "model_name": "HBoxModel",
      "state": {
       "_dom_classes": [],
       "_model_module": "@jupyter-widgets/controls",
       "_model_module_version": "1.5.0",
       "_model_name": "HBoxModel",
       "_view_count": null,
       "_view_module": "@jupyter-widgets/controls",
       "_view_module_version": "1.5.0",
       "_view_name": "HBoxView",
       "box_style": "",
       "children": [
        "IPY_MODEL_6dac1bb713954eb4b30973913fb5bc95",
        "IPY_MODEL_88ba800467cc4afab60171dd1a175d0d",
        "IPY_MODEL_7f41872db8b24391b901e6a28654456f"
       ],
       "layout": "IPY_MODEL_abdf1b1d55944250ba4f50425c4ac4aa"
      }
     },
     "462ed500381c4d15b91baef28ce88db2": {
      "model_module": "@jupyter-widgets/base",
      "model_module_version": "1.2.0",
      "model_name": "LayoutModel",
      "state": {
       "_model_module": "@jupyter-widgets/base",
       "_model_module_version": "1.2.0",
       "_model_name": "LayoutModel",
       "_view_count": null,
       "_view_module": "@jupyter-widgets/base",
       "_view_module_version": "1.2.0",
       "_view_name": "LayoutView",
       "align_content": null,
       "align_items": null,
       "align_self": null,
       "border": null,
       "bottom": null,
       "display": null,
       "flex": null,
       "flex_flow": null,
       "grid_area": null,
       "grid_auto_columns": null,
       "grid_auto_flow": null,
       "grid_auto_rows": null,
       "grid_column": null,
       "grid_gap": null,
       "grid_row": null,
       "grid_template_areas": null,
       "grid_template_columns": null,
       "grid_template_rows": null,
       "height": null,
       "justify_content": null,
       "justify_items": null,
       "left": null,
       "margin": null,
       "max_height": null,
       "max_width": null,
       "min_height": null,
       "min_width": null,
       "object_fit": null,
       "object_position": null,
       "order": null,
       "overflow": null,
       "overflow_x": null,
       "overflow_y": null,
       "padding": null,
       "right": null,
       "top": null,
       "visibility": null,
       "width": null
      }
     },
     "588f626b29744972b8b6c096a1b29ffe": {
      "model_module": "@jupyter-widgets/base",
      "model_module_version": "1.2.0",
      "model_name": "LayoutModel",
      "state": {
       "_model_module": "@jupyter-widgets/base",
       "_model_module_version": "1.2.0",
       "_model_name": "LayoutModel",
       "_view_count": null,
       "_view_module": "@jupyter-widgets/base",
       "_view_module_version": "1.2.0",
       "_view_name": "LayoutView",
       "align_content": null,
       "align_items": null,
       "align_self": null,
       "border": null,
       "bottom": null,
       "display": null,
       "flex": null,
       "flex_flow": null,
       "grid_area": null,
       "grid_auto_columns": null,
       "grid_auto_flow": null,
       "grid_auto_rows": null,
       "grid_column": null,
       "grid_gap": null,
       "grid_row": null,
       "grid_template_areas": null,
       "grid_template_columns": null,
       "grid_template_rows": null,
       "height": null,
       "justify_content": null,
       "justify_items": null,
       "left": null,
       "margin": null,
       "max_height": null,
       "max_width": null,
       "min_height": null,
       "min_width": null,
       "object_fit": null,
       "object_position": null,
       "order": null,
       "overflow": null,
       "overflow_x": null,
       "overflow_y": null,
       "padding": null,
       "right": null,
       "top": null,
       "visibility": null,
       "width": null
      }
     },
     "5e36dd1d3d5044338649ecc98aec5124": {
      "model_module": "@jupyter-widgets/base",
      "model_module_version": "1.2.0",
      "model_name": "LayoutModel",
      "state": {
       "_model_module": "@jupyter-widgets/base",
       "_model_module_version": "1.2.0",
       "_model_name": "LayoutModel",
       "_view_count": null,
       "_view_module": "@jupyter-widgets/base",
       "_view_module_version": "1.2.0",
       "_view_name": "LayoutView",
       "align_content": null,
       "align_items": null,
       "align_self": null,
       "border": null,
       "bottom": null,
       "display": null,
       "flex": null,
       "flex_flow": null,
       "grid_area": null,
       "grid_auto_columns": null,
       "grid_auto_flow": null,
       "grid_auto_rows": null,
       "grid_column": null,
       "grid_gap": null,
       "grid_row": null,
       "grid_template_areas": null,
       "grid_template_columns": null,
       "grid_template_rows": null,
       "height": null,
       "justify_content": null,
       "justify_items": null,
       "left": null,
       "margin": null,
       "max_height": null,
       "max_width": null,
       "min_height": null,
       "min_width": null,
       "object_fit": null,
       "object_position": null,
       "order": null,
       "overflow": null,
       "overflow_x": null,
       "overflow_y": null,
       "padding": null,
       "right": null,
       "top": null,
       "visibility": null,
       "width": null
      }
     },
     "62816c74619f49e094b8468b6d3771c4": {
      "model_module": "@jupyter-widgets/base",
      "model_module_version": "1.2.0",
      "model_name": "LayoutModel",
      "state": {
       "_model_module": "@jupyter-widgets/base",
       "_model_module_version": "1.2.0",
       "_model_name": "LayoutModel",
       "_view_count": null,
       "_view_module": "@jupyter-widgets/base",
       "_view_module_version": "1.2.0",
       "_view_name": "LayoutView",
       "align_content": null,
       "align_items": null,
       "align_self": null,
       "border": null,
       "bottom": null,
       "display": null,
       "flex": null,
       "flex_flow": null,
       "grid_area": null,
       "grid_auto_columns": null,
       "grid_auto_flow": null,
       "grid_auto_rows": null,
       "grid_column": null,
       "grid_gap": null,
       "grid_row": null,
       "grid_template_areas": null,
       "grid_template_columns": null,
       "grid_template_rows": null,
       "height": null,
       "justify_content": null,
       "justify_items": null,
       "left": null,
       "margin": null,
       "max_height": null,
       "max_width": null,
       "min_height": null,
       "min_width": null,
       "object_fit": null,
       "object_position": null,
       "order": null,
       "overflow": null,
       "overflow_x": null,
       "overflow_y": null,
       "padding": null,
       "right": null,
       "top": null,
       "visibility": null,
       "width": null
      }
     },
     "62a691ada36f431db2014ccb8686bcde": {
      "model_module": "@jupyter-widgets/controls",
      "model_module_version": "1.5.0",
      "model_name": "ProgressStyleModel",
      "state": {
       "_model_module": "@jupyter-widgets/controls",
       "_model_module_version": "1.5.0",
       "_model_name": "ProgressStyleModel",
       "_view_count": null,
       "_view_module": "@jupyter-widgets/base",
       "_view_module_version": "1.2.0",
       "_view_name": "StyleView",
       "bar_color": null,
       "description_width": ""
      }
     },
     "6dac1bb713954eb4b30973913fb5bc95": {
      "model_module": "@jupyter-widgets/controls",
      "model_module_version": "1.5.0",
      "model_name": "HTMLModel",
      "state": {
       "_dom_classes": [],
       "_model_module": "@jupyter-widgets/controls",
       "_model_module_version": "1.5.0",
       "_model_name": "HTMLModel",
       "_view_count": null,
       "_view_module": "@jupyter-widgets/controls",
       "_view_module_version": "1.5.0",
       "_view_name": "HTMLView",
       "description": "",
       "description_tooltip": null,
       "layout": "IPY_MODEL_462ed500381c4d15b91baef28ce88db2",
       "placeholder": "​",
       "style": "IPY_MODEL_0020f9ce23b144f3abf336bd388a9f57",
       "value": "Packets:   "
      }
     },
     "7028e2ebd816403eb8035584c183e03f": {
      "model_module": "@jupyter-widgets/controls",
      "model_module_version": "1.5.0",
      "model_name": "ProgressStyleModel",
      "state": {
       "_model_module": "@jupyter-widgets/controls",
       "_model_module_version": "1.5.0",
       "_model_name": "ProgressStyleModel",
       "_view_count": null,
       "_view_module": "@jupyter-widgets/base",
       "_view_module_version": "1.2.0",
       "_view_name": "StyleView",
       "bar_color": null,
       "description_width": ""
      }
     },
     "7f41872db8b24391b901e6a28654456f": {
      "model_module": "@jupyter-widgets/controls",
      "model_module_version": "1.5.0",
      "model_name": "HTMLModel",
      "state": {
       "_dom_classes": [],
       "_model_module": "@jupyter-widgets/controls",
       "_model_module_version": "1.5.0",
       "_model_name": "HTMLModel",
       "_view_count": null,
       "_view_module": "@jupyter-widgets/controls",
       "_view_module_version": "1.5.0",
       "_view_name": "HTMLView",
       "description": "",
       "description_tooltip": null,
       "layout": "IPY_MODEL_b656944879ee42cb924479748d22f739",
       "placeholder": "​",
       "style": "IPY_MODEL_db06b3aa147746e0b9fc9e5853235b9d",
       "value": "0/? [00:00&lt;?, ?it/s]"
      }
     },
     "80b5e8e649b7421d9171554dc7ab15e1": {
      "model_module": "@jupyter-widgets/controls",
      "model_module_version": "1.5.0",
      "model_name": "HBoxModel",
      "state": {
       "_dom_classes": [],
       "_model_module": "@jupyter-widgets/controls",
       "_model_module_version": "1.5.0",
       "_model_name": "HBoxModel",
       "_view_count": null,
       "_view_module": "@jupyter-widgets/controls",
       "_view_module_version": "1.5.0",
       "_view_name": "HBoxView",
       "box_style": "",
       "children": [
        "IPY_MODEL_a7c33543328847f78bc5e35648240306",
        "IPY_MODEL_ec312b9464bb404cb742ed3ad6539430",
        "IPY_MODEL_ea723e60ffeb4c5fb9b171a67985fba1"
       ],
       "layout": "IPY_MODEL_588f626b29744972b8b6c096a1b29ffe"
      }
     },
     "88ba800467cc4afab60171dd1a175d0d": {
      "model_module": "@jupyter-widgets/controls",
      "model_module_version": "1.5.0",
      "model_name": "FloatProgressModel",
      "state": {
       "_dom_classes": [],
       "_model_module": "@jupyter-widgets/controls",
       "_model_module_version": "1.5.0",
       "_model_name": "FloatProgressModel",
       "_view_count": null,
       "_view_module": "@jupyter-widgets/controls",
       "_view_module_version": "1.5.0",
       "_view_name": "ProgressView",
       "bar_style": "info",
       "description": "",
       "description_tooltip": null,
       "layout": "IPY_MODEL_9f4d3926bd1b4f938cc752d831fd7d46",
       "max": 1.0,
       "min": 0.0,
       "orientation": "horizontal",
       "style": "IPY_MODEL_7028e2ebd816403eb8035584c183e03f",
       "value": 0.0
      }
     },
     "92c8f9e2fd0d425a9aecb5f8ca676a26": {
      "model_module": "@jupyter-widgets/base",
      "model_module_version": "1.2.0",
      "model_name": "LayoutModel",
      "state": {
       "_model_module": "@jupyter-widgets/base",
       "_model_module_version": "1.2.0",
       "_model_name": "LayoutModel",
       "_view_count": null,
       "_view_module": "@jupyter-widgets/base",
       "_view_module_version": "1.2.0",
       "_view_name": "LayoutView",
       "align_content": null,
       "align_items": null,
       "align_self": null,
       "border": null,
       "bottom": null,
       "display": null,
       "flex": null,
       "flex_flow": null,
       "grid_area": null,
       "grid_auto_columns": null,
       "grid_auto_flow": null,
       "grid_auto_rows": null,
       "grid_column": null,
       "grid_gap": null,
       "grid_row": null,
       "grid_template_areas": null,
       "grid_template_columns": null,
       "grid_template_rows": null,
       "height": null,
       "justify_content": null,
       "justify_items": null,
       "left": null,
       "margin": null,
       "max_height": null,
       "max_width": null,
       "min_height": null,
       "min_width": null,
       "object_fit": null,
       "object_position": null,
       "order": null,
       "overflow": null,
       "overflow_x": null,
       "overflow_y": null,
       "padding": null,
       "right": null,
       "top": null,
       "visibility": null,
       "width": null
      }
     },
     "9f4d3926bd1b4f938cc752d831fd7d46": {
      "model_module": "@jupyter-widgets/base",
      "model_module_version": "1.2.0",
      "model_name": "LayoutModel",
      "state": {
       "_model_module": "@jupyter-widgets/base",
       "_model_module_version": "1.2.0",
       "_model_name": "LayoutModel",
       "_view_count": null,
       "_view_module": "@jupyter-widgets/base",
       "_view_module_version": "1.2.0",
       "_view_name": "LayoutView",
       "align_content": null,
       "align_items": null,
       "align_self": null,
       "border": null,
       "bottom": null,
       "display": null,
       "flex": null,
       "flex_flow": null,
       "grid_area": null,
       "grid_auto_columns": null,
       "grid_auto_flow": null,
       "grid_auto_rows": null,
       "grid_column": null,
       "grid_gap": null,
       "grid_row": null,
       "grid_template_areas": null,
       "grid_template_columns": null,
       "grid_template_rows": null,
       "height": null,
       "justify_content": null,
       "justify_items": null,
       "left": null,
       "margin": null,
       "max_height": null,
       "max_width": null,
       "min_height": null,
       "min_width": null,
       "object_fit": null,
       "object_position": null,
       "order": null,
       "overflow": null,
       "overflow_x": null,
       "overflow_y": null,
       "padding": null,
       "right": null,
       "top": null,
       "visibility": null,
       "width": "20px"
      }
     },
     "a79a3be8298645cfa2026f520c78b820": {
      "model_module": "@jupyter-widgets/controls",
      "model_module_version": "1.5.0",
      "model_name": "DescriptionStyleModel",
      "state": {
       "_model_module": "@jupyter-widgets/controls",
       "_model_module_version": "1.5.0",
       "_model_name": "DescriptionStyleModel",
       "_view_count": null,
       "_view_module": "@jupyter-widgets/base",
       "_view_module_version": "1.2.0",
       "_view_name": "StyleView",
       "description_width": ""
      }
     },
     "a7c33543328847f78bc5e35648240306": {
      "model_module": "@jupyter-widgets/controls",
      "model_module_version": "1.5.0",
      "model_name": "HTMLModel",
      "state": {
       "_dom_classes": [],
       "_model_module": "@jupyter-widgets/controls",
       "_model_module_version": "1.5.0",
       "_model_name": "HTMLModel",
       "_view_count": null,
       "_view_module": "@jupyter-widgets/controls",
       "_view_module_version": "1.5.0",
       "_view_name": "HTMLView",
       "description": "",
       "description_tooltip": null,
       "layout": "IPY_MODEL_c19d2f35ead64efa88f0b02bfb6fd224",
       "placeholder": "​",
       "style": "IPY_MODEL_a79a3be8298645cfa2026f520c78b820",
       "value": "Iterations:"
      }
     },
     "abdf1b1d55944250ba4f50425c4ac4aa": {
      "model_module": "@jupyter-widgets/base",
      "model_module_version": "1.2.0",
      "model_name": "LayoutModel",
      "state": {
       "_model_module": "@jupyter-widgets/base",
       "_model_module_version": "1.2.0",
       "_model_name": "LayoutModel",
       "_view_count": null,
       "_view_module": "@jupyter-widgets/base",
       "_view_module_version": "1.2.0",
       "_view_name": "LayoutView",
       "align_content": null,
       "align_items": null,
       "align_self": null,
       "border": null,
       "bottom": null,
       "display": null,
       "flex": null,
       "flex_flow": null,
       "grid_area": null,
       "grid_auto_columns": null,
       "grid_auto_flow": null,
       "grid_auto_rows": null,
       "grid_column": null,
       "grid_gap": null,
       "grid_row": null,
       "grid_template_areas": null,
       "grid_template_columns": null,
       "grid_template_rows": null,
       "height": null,
       "justify_content": null,
       "justify_items": null,
       "left": null,
       "margin": null,
       "max_height": null,
       "max_width": null,
       "min_height": null,
       "min_width": null,
       "object_fit": null,
       "object_position": null,
       "order": null,
       "overflow": null,
       "overflow_x": null,
       "overflow_y": null,
       "padding": null,
       "right": null,
       "top": null,
       "visibility": null,
       "width": null
      }
     },
     "afe4f45bf78b4389a21dfb8c67784569": {
      "model_module": "@jupyter-widgets/output",
      "model_module_version": "1.0.0",
      "model_name": "OutputModel",
      "state": {
       "_dom_classes": [],
       "_model_module": "@jupyter-widgets/output",
       "_model_module_version": "1.0.0",
       "_model_name": "OutputModel",
       "_view_count": null,
       "_view_module": "@jupyter-widgets/output",
       "_view_module_version": "1.0.0",
       "_view_name": "OutputView",
       "layout": "IPY_MODEL_62816c74619f49e094b8468b6d3771c4",
       "msg_id": "",
       "outputs": []
      }
     },
     "b656944879ee42cb924479748d22f739": {
      "model_module": "@jupyter-widgets/base",
      "model_module_version": "1.2.0",
      "model_name": "LayoutModel",
      "state": {
       "_model_module": "@jupyter-widgets/base",
       "_model_module_version": "1.2.0",
       "_model_name": "LayoutModel",
       "_view_count": null,
       "_view_module": "@jupyter-widgets/base",
       "_view_module_version": "1.2.0",
       "_view_name": "LayoutView",
       "align_content": null,
       "align_items": null,
       "align_self": null,
       "border": null,
       "bottom": null,
       "display": null,
       "flex": null,
       "flex_flow": null,
       "grid_area": null,
       "grid_auto_columns": null,
       "grid_auto_flow": null,
       "grid_auto_rows": null,
       "grid_column": null,
       "grid_gap": null,
       "grid_row": null,
       "grid_template_areas": null,
       "grid_template_columns": null,
       "grid_template_rows": null,
       "height": null,
       "justify_content": null,
       "justify_items": null,
       "left": null,
       "margin": null,
       "max_height": null,
       "max_width": null,
       "min_height": null,
       "min_width": null,
       "object_fit": null,
       "object_position": null,
       "order": null,
       "overflow": null,
       "overflow_x": null,
       "overflow_y": null,
       "padding": null,
       "right": null,
       "top": null,
       "visibility": null,
       "width": null
      }
     },
     "c19d2f35ead64efa88f0b02bfb6fd224": {
      "model_module": "@jupyter-widgets/base",
      "model_module_version": "1.2.0",
      "model_name": "LayoutModel",
      "state": {
       "_model_module": "@jupyter-widgets/base",
       "_model_module_version": "1.2.0",
       "_model_name": "LayoutModel",
       "_view_count": null,
       "_view_module": "@jupyter-widgets/base",
       "_view_module_version": "1.2.0",
       "_view_name": "LayoutView",
       "align_content": null,
       "align_items": null,
       "align_self": null,
       "border": null,
       "bottom": null,
       "display": null,
       "flex": null,
       "flex_flow": null,
       "grid_area": null,
       "grid_auto_columns": null,
       "grid_auto_flow": null,
       "grid_auto_rows": null,
       "grid_column": null,
       "grid_gap": null,
       "grid_row": null,
       "grid_template_areas": null,
       "grid_template_columns": null,
       "grid_template_rows": null,
       "height": null,
       "justify_content": null,
       "justify_items": null,
       "left": null,
       "margin": null,
       "max_height": null,
       "max_width": null,
       "min_height": null,
       "min_width": null,
       "object_fit": null,
       "object_position": null,
       "order": null,
       "overflow": null,
       "overflow_x": null,
       "overflow_y": null,
       "padding": null,
       "right": null,
       "top": null,
       "visibility": null,
       "width": null
      }
     },
     "d03dadea839242b4a7400ac7df5b5374": {
      "model_module": "@jupyter-widgets/controls",
      "model_module_version": "1.5.0",
      "model_name": "DescriptionStyleModel",
      "state": {
       "_model_module": "@jupyter-widgets/controls",
       "_model_module_version": "1.5.0",
       "_model_name": "DescriptionStyleModel",
       "_view_count": null,
       "_view_module": "@jupyter-widgets/base",
       "_view_module_version": "1.2.0",
       "_view_name": "StyleView",
       "description_width": ""
      }
     },
     "db06b3aa147746e0b9fc9e5853235b9d": {
      "model_module": "@jupyter-widgets/controls",
      "model_module_version": "1.5.0",
      "model_name": "DescriptionStyleModel",
      "state": {
       "_model_module": "@jupyter-widgets/controls",
       "_model_module_version": "1.5.0",
       "_model_name": "DescriptionStyleModel",
       "_view_count": null,
       "_view_module": "@jupyter-widgets/base",
       "_view_module_version": "1.2.0",
       "_view_name": "StyleView",
       "description_width": ""
      }
     },
     "e323f791ea61468ba2364662bbc56f7f": {
      "model_module": "@jupyter-widgets/base",
      "model_module_version": "1.2.0",
      "model_name": "LayoutModel",
      "state": {
       "_model_module": "@jupyter-widgets/base",
       "_model_module_version": "1.2.0",
       "_model_name": "LayoutModel",
       "_view_count": null,
       "_view_module": "@jupyter-widgets/base",
       "_view_module_version": "1.2.0",
       "_view_name": "LayoutView",
       "align_content": null,
       "align_items": null,
       "align_self": null,
       "border": null,
       "bottom": null,
       "display": null,
       "flex": null,
       "flex_flow": null,
       "grid_area": null,
       "grid_auto_columns": null,
       "grid_auto_flow": null,
       "grid_auto_rows": null,
       "grid_column": null,
       "grid_gap": null,
       "grid_row": null,
       "grid_template_areas": null,
       "grid_template_columns": null,
       "grid_template_rows": null,
       "height": null,
       "justify_content": null,
       "justify_items": null,
       "left": null,
       "margin": null,
       "max_height": null,
       "max_width": null,
       "min_height": null,
       "min_width": null,
       "object_fit": null,
       "object_position": null,
       "order": null,
       "overflow": null,
       "overflow_x": null,
       "overflow_y": null,
       "padding": null,
       "right": null,
       "top": null,
       "visibility": null,
       "width": "20px"
      }
     },
     "ea723e60ffeb4c5fb9b171a67985fba1": {
      "model_module": "@jupyter-widgets/controls",
      "model_module_version": "1.5.0",
      "model_name": "HTMLModel",
      "state": {
       "_dom_classes": [],
       "_model_module": "@jupyter-widgets/controls",
       "_model_module_version": "1.5.0",
       "_model_name": "HTMLModel",
       "_view_count": null,
       "_view_module": "@jupyter-widgets/controls",
       "_view_module_version": "1.5.0",
       "_view_name": "HTMLView",
       "description": "",
       "description_tooltip": null,
       "layout": "IPY_MODEL_92c8f9e2fd0d425a9aecb5f8ca676a26",
       "placeholder": "​",
       "style": "IPY_MODEL_d03dadea839242b4a7400ac7df5b5374",
       "value": "20/? [00:59&lt;00:00,  3.18s/it]"
      }
     },
     "ec312b9464bb404cb742ed3ad6539430": {
      "model_module": "@jupyter-widgets/controls",
      "model_module_version": "1.5.0",
      "model_name": "FloatProgressModel",
      "state": {
       "_dom_classes": [],
       "_model_module": "@jupyter-widgets/controls",
       "_model_module_version": "1.5.0",
       "_model_name": "FloatProgressModel",
       "_view_count": null,
       "_view_module": "@jupyter-widgets/controls",
       "_view_module_version": "1.5.0",
       "_view_name": "ProgressView",
       "bar_style": "info",
       "description": "",
       "description_tooltip": null,
       "layout": "IPY_MODEL_e323f791ea61468ba2364662bbc56f7f",
       "max": 1.0,
       "min": 0.0,
       "orientation": "horizontal",
       "style": "IPY_MODEL_62a691ada36f431db2014ccb8686bcde",
       "value": 1.0
      }
     },
     "fcdbd67537df44de99e589dc4fc0c967": {
      "model_module": "@jupyter-widgets/output",
      "model_module_version": "1.0.0",
      "model_name": "OutputModel",
      "state": {
       "_dom_classes": [],
       "_model_module": "@jupyter-widgets/output",
       "_model_module_version": "1.0.0",
       "_model_name": "OutputModel",
       "_view_count": null,
       "_view_module": "@jupyter-widgets/output",
       "_view_module_version": "1.0.0",
       "_view_name": "OutputView",
       "layout": "IPY_MODEL_5e36dd1d3d5044338649ecc98aec5124",
       "msg_id": "",
       "outputs": []
      }
     }
    },
    "version_major": 2,
    "version_minor": 0
   }
  }
 },
 "nbformat": 4,
 "nbformat_minor": 5
}
